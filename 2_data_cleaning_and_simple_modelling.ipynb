{
 "cells": [
  {
   "cell_type": "markdown",
   "metadata": {},
   "source": [
    "Basic Data Cleaning"
   ]
  },
  {
   "cell_type": "code",
   "execution_count": 1,
   "metadata": {},
   "outputs": [],
   "source": [
    "import numpy as np\n",
    "import pandas as pd\n",
    "import matplotlib.pyplot as plt\n",
    "%matplotlib inline\n",
    "\n",
    "from sklearn.model_selection import train_test_split, StratifiedKFold, GridSearchCV\n",
    "from sklearn.linear_model import LinearRegression, ARDRegression, RANSACRegressor\n",
    "from sklearn.tree import DecisionTreeRegressor\n",
    "from sklearn.metrics import mean_squared_error\n",
    "\n",
    "import datetime\n",
    "from utils import convert_to_datetime, impute_and_sort_citation"
   ]
  },
  {
   "cell_type": "code",
   "execution_count": 2,
   "metadata": {},
   "outputs": [
    {
     "data": {
      "text/html": [
       "<div>\n",
       "<style scoped>\n",
       "    .dataframe tbody tr th:only-of-type {\n",
       "        vertical-align: middle;\n",
       "    }\n",
       "\n",
       "    .dataframe tbody tr th {\n",
       "        vertical-align: top;\n",
       "    }\n",
       "\n",
       "    .dataframe thead th {\n",
       "        text-align: right;\n",
       "    }\n",
       "</style>\n",
       "<table border=\"1\" class=\"dataframe\">\n",
       "  <thead>\n",
       "    <tr style=\"text-align: right;\">\n",
       "      <th></th>\n",
       "      <th>source_title</th>\n",
       "      <th>reference</th>\n",
       "      <th>author</th>\n",
       "      <th>source_id</th>\n",
       "      <th>volume</th>\n",
       "      <th>title</th>\n",
       "      <th>year</th>\n",
       "      <th>doi</th>\n",
       "      <th>issue</th>\n",
       "      <th>citation_count</th>\n",
       "      <th>oa_link</th>\n",
       "      <th>citation</th>\n",
       "      <th>page</th>\n",
       "      <th>citation_date</th>\n",
       "      <th>abstract</th>\n",
       "      <th>pdf_link</th>\n",
       "    </tr>\n",
       "  </thead>\n",
       "  <tbody>\n",
       "    <tr>\n",
       "      <th>0</th>\n",
       "      <td>2013 Ieee Conference On Computer Vision And Pa...</td>\n",
       "      <td>10.1007/s11263-006-0031-y; 10.1038/scientifica...</td>\n",
       "      <td>Jia, Zhaoyin; Gallagher, Andrew; Saxena, Ashut...</td>\n",
       "      <td>NaN</td>\n",
       "      <td>NaN</td>\n",
       "      <td>3d-based reasoning with blocks, support, and s...</td>\n",
       "      <td>2013</td>\n",
       "      <td>10.1109/cvpr.2013.8</td>\n",
       "      <td>NaN</td>\n",
       "      <td>57</td>\n",
       "      <td>http://www.cs.cornell.edu/~asaxena/papers/rgbd...</td>\n",
       "      <td>10.1145/3215525.3215531; 10.1007/s10846-015-03...</td>\n",
       "      <td>NaN</td>\n",
       "      <td>[[2018, 5, 29], [2016, 3, 2], [2015, 1, 29], [...</td>\n",
       "      <td>3D volumetric reasoning is important for truly...</td>\n",
       "      <td>../../content_cvpr_2013/papers/Jia_3D-Based_Re...</td>\n",
       "    </tr>\n",
       "  </tbody>\n",
       "</table>\n",
       "</div>"
      ],
      "text/plain": [
       "                                        source_title  \\\n",
       "0  2013 Ieee Conference On Computer Vision And Pa...   \n",
       "\n",
       "                                           reference  \\\n",
       "0  10.1007/s11263-006-0031-y; 10.1038/scientifica...   \n",
       "\n",
       "                                              author  source_id  volume  \\\n",
       "0  Jia, Zhaoyin; Gallagher, Andrew; Saxena, Ashut...        NaN     NaN   \n",
       "\n",
       "                                               title  year  \\\n",
       "0  3d-based reasoning with blocks, support, and s...  2013   \n",
       "\n",
       "                   doi  issue  citation_count  \\\n",
       "0  10.1109/cvpr.2013.8    NaN              57   \n",
       "\n",
       "                                             oa_link  \\\n",
       "0  http://www.cs.cornell.edu/~asaxena/papers/rgbd...   \n",
       "\n",
       "                                            citation  page  \\\n",
       "0  10.1145/3215525.3215531; 10.1007/s10846-015-03...   NaN   \n",
       "\n",
       "                                       citation_date  \\\n",
       "0  [[2018, 5, 29], [2016, 3, 2], [2015, 1, 29], [...   \n",
       "\n",
       "                                            abstract  \\\n",
       "0  3D volumetric reasoning is important for truly...   \n",
       "\n",
       "                                            pdf_link  \n",
       "0  ../../content_cvpr_2013/papers/Jia_3D-Based_Re...  "
      ]
     },
     "execution_count": 2,
     "metadata": {},
     "output_type": "execute_result"
    }
   ],
   "source": [
    "df = pd.read_csv(\"cvpr_data.csv\")\n",
    "df.head(1)"
   ]
  },
  {
   "cell_type": "code",
   "execution_count": 3,
   "metadata": {},
   "outputs": [
    {
     "data": {
      "text/plain": [
       "source_title         0\n",
       "reference         5098\n",
       "author               0\n",
       "source_id         8092\n",
       "volume            8092\n",
       "title                0\n",
       "year                 0\n",
       "doi                  0\n",
       "issue             8092\n",
       "citation_count       0\n",
       "oa_link           2467\n",
       "citation          1386\n",
       "page              8092\n",
       "citation_date        0\n",
       "abstract             0\n",
       "pdf_link             0\n",
       "dtype: int64"
      ]
     },
     "execution_count": 3,
     "metadata": {},
     "output_type": "execute_result"
    }
   ],
   "source": [
    "df.isnull().sum()"
   ]
  },
  {
   "cell_type": "markdown",
   "metadata": {},
   "source": [
    "For basic data analysis, only keep year, author list and citation count"
   ]
  },
  {
   "cell_type": "code",
   "execution_count": 4,
   "metadata": {},
   "outputs": [],
   "source": [
    "# convert citation dates from string to datetime objects\n",
    "df[\"citation_date\"] = df[\"citation_date\"].apply(convert_to_datetime)\n",
    "\n",
    "# randomly impute missing citation dates and sort them\n",
    "df[\"citation_date\"] = df[\"citation_date\"].apply(impute_and_sort_citation)"
   ]
  },
  {
   "cell_type": "code",
   "execution_count": 5,
   "metadata": {},
   "outputs": [
    {
     "data": {
      "text/html": [
       "<div>\n",
       "<style scoped>\n",
       "    .dataframe tbody tr th:only-of-type {\n",
       "        vertical-align: middle;\n",
       "    }\n",
       "\n",
       "    .dataframe tbody tr th {\n",
       "        vertical-align: top;\n",
       "    }\n",
       "\n",
       "    .dataframe thead th {\n",
       "        text-align: right;\n",
       "    }\n",
       "</style>\n",
       "<table border=\"1\" class=\"dataframe\">\n",
       "  <thead>\n",
       "    <tr style=\"text-align: right;\">\n",
       "      <th></th>\n",
       "      <th>author</th>\n",
       "      <th>year</th>\n",
       "      <th>citation_date</th>\n",
       "    </tr>\n",
       "  </thead>\n",
       "  <tbody>\n",
       "    <tr>\n",
       "      <th>0</th>\n",
       "      <td>Jia, Zhaoyin; Gallagher, Andrew; Saxena, Ashut...</td>\n",
       "      <td>2013</td>\n",
       "      <td>[2013-10-10, 2014-01-06, 2014-03-07, 2014-08-0...</td>\n",
       "    </tr>\n",
       "  </tbody>\n",
       "</table>\n",
       "</div>"
      ],
      "text/plain": [
       "                                              author  year  \\\n",
       "0  Jia, Zhaoyin; Gallagher, Andrew; Saxena, Ashut...  2013   \n",
       "\n",
       "                                       citation_date  \n",
       "0  [2013-10-10, 2014-01-06, 2014-03-07, 2014-08-0...  "
      ]
     },
     "execution_count": 5,
     "metadata": {},
     "output_type": "execute_result"
    }
   ],
   "source": [
    "df = df.drop(df.columns.difference(['year','author','citation_date']),axis='columns')\n",
    "df.head(1)"
   ]
  },
  {
   "cell_type": "code",
   "execution_count": 6,
   "metadata": {},
   "outputs": [
    {
     "data": {
      "text/plain": [
       "author           0\n",
       "year             0\n",
       "citation_date    0\n",
       "dtype: int64"
      ]
     },
     "execution_count": 6,
     "metadata": {},
     "output_type": "execute_result"
    }
   ],
   "source": [
    "df.isnull().sum()"
   ]
  },
  {
   "cell_type": "markdown",
   "metadata": {},
   "source": [
    "Only keep first and last authors"
   ]
  },
  {
   "cell_type": "code",
   "execution_count": 7,
   "metadata": {},
   "outputs": [
    {
     "data": {
      "text/html": [
       "<div>\n",
       "<style scoped>\n",
       "    .dataframe tbody tr th:only-of-type {\n",
       "        vertical-align: middle;\n",
       "    }\n",
       "\n",
       "    .dataframe tbody tr th {\n",
       "        vertical-align: top;\n",
       "    }\n",
       "\n",
       "    .dataframe thead th {\n",
       "        text-align: right;\n",
       "    }\n",
       "</style>\n",
       "<table border=\"1\" class=\"dataframe\">\n",
       "  <thead>\n",
       "    <tr style=\"text-align: right;\">\n",
       "      <th></th>\n",
       "      <th>year</th>\n",
       "      <th>citation_date</th>\n",
       "      <th>first_author</th>\n",
       "      <th>last_author</th>\n",
       "    </tr>\n",
       "  </thead>\n",
       "  <tbody>\n",
       "    <tr>\n",
       "      <th>0</th>\n",
       "      <td>2013</td>\n",
       "      <td>[2013-10-10, 2014-01-06, 2014-03-07, 2014-08-0...</td>\n",
       "      <td>jia, zhaoyin</td>\n",
       "      <td>chen, tsuhan</td>\n",
       "    </tr>\n",
       "  </tbody>\n",
       "</table>\n",
       "</div>"
      ],
      "text/plain": [
       "   year                                      citation_date  first_author  \\\n",
       "0  2013  [2013-10-10, 2014-01-06, 2014-03-07, 2014-08-0...  jia, zhaoyin   \n",
       "\n",
       "    last_author  \n",
       "0  chen, tsuhan  "
      ]
     },
     "execution_count": 7,
     "metadata": {},
     "output_type": "execute_result"
    }
   ],
   "source": [
    "df[\"first_author\"] = df[\"author\"].apply(lambda x: (x.split(\";\"))[0].strip().lower())\n",
    "df[\"last_author\"] = df[\"author\"].apply(lambda x: (x.split(\";\"))[-1].strip().lower())\n",
    "df = df.drop(\"author\", axis=\"columns\")\n",
    "df.head(1)"
   ]
  },
  {
   "cell_type": "code",
   "execution_count": 8,
   "metadata": {},
   "outputs": [
    {
     "name": "stdout",
     "output_type": "stream",
     "text": [
      "wu, yue                     8\n",
      "wang, xiaolong              8\n",
      "li, chen                    8\n",
      "wang, peng                  8\n",
      "feichtenhofer, christoph    7\n",
      "                           ..\n",
      "xu, jing                    1\n",
      "wu, wenyan                  1\n",
      "yang, yaoqing               1\n",
      "marinoiu, elisabeta         1\n",
      "wolf, valentin              1\n",
      "Name: first_author, Length: 5715, dtype: int64\n",
      "yang, ming-hsuan        58\n",
      "tian, qi                47\n",
      "van gool, luc           43\n",
      "sun, jian               41\n",
      "urtasun, raquel         41\n",
      "                        ..\n",
      "tuzel, oncel             1\n",
      "blaschko, matthew b.     1\n",
      "dong, ming               1\n",
      "moeller, michael         1\n",
      "buettner, florian        1\n",
      "Name: last_author, Length: 2816, dtype: int64\n"
     ]
    }
   ],
   "source": [
    "first_author = df['first_author'].value_counts(ascending=False)\n",
    "last_author = df['last_author'].value_counts(ascending=False)\n",
    "print(first_author)\n",
    "print(last_author)"
   ]
  },
  {
   "cell_type": "code",
   "execution_count": 9,
   "metadata": {},
   "outputs": [
    {
     "name": "stdout",
     "output_type": "stream",
     "text": [
      "174\n",
      "142\n"
     ]
    }
   ],
   "source": [
    "print(len(first_author[first_author>3]))\n",
    "print(len(last_author[last_author>10]))"
   ]
  },
  {
   "cell_type": "markdown",
   "metadata": {},
   "source": [
    "Convert authors with low citation counts to \"other\""
   ]
  },
  {
   "cell_type": "code",
   "execution_count": 10,
   "metadata": {},
   "outputs": [
    {
     "data": {
      "text/html": [
       "<div>\n",
       "<style scoped>\n",
       "    .dataframe tbody tr th:only-of-type {\n",
       "        vertical-align: middle;\n",
       "    }\n",
       "\n",
       "    .dataframe tbody tr th {\n",
       "        vertical-align: top;\n",
       "    }\n",
       "\n",
       "    .dataframe thead th {\n",
       "        text-align: right;\n",
       "    }\n",
       "</style>\n",
       "<table border=\"1\" class=\"dataframe\">\n",
       "  <thead>\n",
       "    <tr style=\"text-align: right;\">\n",
       "      <th></th>\n",
       "      <th>year</th>\n",
       "      <th>citation_date</th>\n",
       "      <th>first_author</th>\n",
       "      <th>last_author</th>\n",
       "    </tr>\n",
       "  </thead>\n",
       "  <tbody>\n",
       "    <tr>\n",
       "      <th>0</th>\n",
       "      <td>2013</td>\n",
       "      <td>[2013-10-10, 2014-01-06, 2014-03-07, 2014-08-0...</td>\n",
       "      <td>other</td>\n",
       "      <td>chen, tsuhan</td>\n",
       "    </tr>\n",
       "    <tr>\n",
       "      <th>1</th>\n",
       "      <td>2013</td>\n",
       "      <td>[2014-12-10, 2015-02-24, 2015-02-24]</td>\n",
       "      <td>other</td>\n",
       "      <td>mori, greg</td>\n",
       "    </tr>\n",
       "    <tr>\n",
       "      <th>2</th>\n",
       "      <td>2013</td>\n",
       "      <td>[2014-04-18, 2014-09-30, 2014-10-14, 2014-10-3...</td>\n",
       "      <td>other</td>\n",
       "      <td>chang, shih-fu</td>\n",
       "    </tr>\n",
       "  </tbody>\n",
       "</table>\n",
       "</div>"
      ],
      "text/plain": [
       "   year                                      citation_date first_author  \\\n",
       "0  2013  [2013-10-10, 2014-01-06, 2014-03-07, 2014-08-0...        other   \n",
       "1  2013               [2014-12-10, 2015-02-24, 2015-02-24]        other   \n",
       "2  2013  [2014-04-18, 2014-09-30, 2014-10-14, 2014-10-3...        other   \n",
       "\n",
       "      last_author  \n",
       "0    chen, tsuhan  \n",
       "1      mori, greg  \n",
       "2  chang, shih-fu  "
      ]
     },
     "execution_count": 10,
     "metadata": {},
     "output_type": "execute_result"
    }
   ],
   "source": [
    "first_author_filtered = first_author[first_author>3]\n",
    "df[\"first_author\"] = df[\"first_author\"].apply(lambda x: x if x in first_author_filtered else \"other\")\n",
    "\n",
    "last_author_filtered = last_author[last_author>3]\n",
    "df[\"last_author\"] = df[\"last_author\"].apply(lambda x: x if x in last_author_filtered else \"other\")\n",
    "\n",
    "df.head(3)"
   ]
  },
  {
   "cell_type": "markdown",
   "metadata": {},
   "source": [
    "Expand each row to multiple rows by using the citation date array"
   ]
  },
  {
   "cell_type": "code",
   "execution_count": 11,
   "metadata": {},
   "outputs": [],
   "source": [
    "df_list = []\n",
    "for i in range(len(df)):\n",
    "    row = df.iloc[i,:]\n",
    "    for j in range(1, len(row[\"citation_date\"])):\n",
    "        temp = {\"year\"                  :row[\"year\"],\n",
    "                \"first_author\"          :row[\"first_author\"],\n",
    "                \"last_author\"           :row[\"last_author\"],\n",
    "                \"cur_citation_count\"    :j,\n",
    "                \"time_to_next\"          :row[\"citation_date\"][j]-row[\"citation_date\"][j-1]}\n",
    "        df_list.append(temp)"
   ]
  },
  {
   "cell_type": "code",
   "execution_count": 12,
   "metadata": {},
   "outputs": [
    {
     "name": "stdout",
     "output_type": "stream",
     "text": [
      "308755\n"
     ]
    },
    {
     "data": {
      "text/html": [
       "<div>\n",
       "<style scoped>\n",
       "    .dataframe tbody tr th:only-of-type {\n",
       "        vertical-align: middle;\n",
       "    }\n",
       "\n",
       "    .dataframe tbody tr th {\n",
       "        vertical-align: top;\n",
       "    }\n",
       "\n",
       "    .dataframe thead th {\n",
       "        text-align: right;\n",
       "    }\n",
       "</style>\n",
       "<table border=\"1\" class=\"dataframe\">\n",
       "  <thead>\n",
       "    <tr style=\"text-align: right;\">\n",
       "      <th></th>\n",
       "      <th>year</th>\n",
       "      <th>first_author</th>\n",
       "      <th>last_author</th>\n",
       "      <th>cur_citation_count</th>\n",
       "      <th>time_to_next</th>\n",
       "    </tr>\n",
       "  </thead>\n",
       "  <tbody>\n",
       "    <tr>\n",
       "      <th>0</th>\n",
       "      <td>2013</td>\n",
       "      <td>other</td>\n",
       "      <td>chen, tsuhan</td>\n",
       "      <td>1</td>\n",
       "      <td>88 days</td>\n",
       "    </tr>\n",
       "    <tr>\n",
       "      <th>1</th>\n",
       "      <td>2013</td>\n",
       "      <td>other</td>\n",
       "      <td>chen, tsuhan</td>\n",
       "      <td>2</td>\n",
       "      <td>60 days</td>\n",
       "    </tr>\n",
       "    <tr>\n",
       "      <th>2</th>\n",
       "      <td>2013</td>\n",
       "      <td>other</td>\n",
       "      <td>chen, tsuhan</td>\n",
       "      <td>3</td>\n",
       "      <td>153 days</td>\n",
       "    </tr>\n",
       "    <tr>\n",
       "      <th>3</th>\n",
       "      <td>2013</td>\n",
       "      <td>other</td>\n",
       "      <td>chen, tsuhan</td>\n",
       "      <td>4</td>\n",
       "      <td>6 days</td>\n",
       "    </tr>\n",
       "    <tr>\n",
       "      <th>4</th>\n",
       "      <td>2013</td>\n",
       "      <td>other</td>\n",
       "      <td>chen, tsuhan</td>\n",
       "      <td>5</td>\n",
       "      <td>1 days</td>\n",
       "    </tr>\n",
       "  </tbody>\n",
       "</table>\n",
       "</div>"
      ],
      "text/plain": [
       "   year first_author   last_author  cur_citation_count time_to_next\n",
       "0  2013        other  chen, tsuhan                   1      88 days\n",
       "1  2013        other  chen, tsuhan                   2      60 days\n",
       "2  2013        other  chen, tsuhan                   3     153 days\n",
       "3  2013        other  chen, tsuhan                   4       6 days\n",
       "4  2013        other  chen, tsuhan                   5       1 days"
      ]
     },
     "execution_count": 12,
     "metadata": {},
     "output_type": "execute_result"
    }
   ],
   "source": [
    "print(len(df_list))\n",
    "df_list = pd.DataFrame(df_list)\n",
    "df_list.head()"
   ]
  },
  {
   "cell_type": "markdown",
   "metadata": {},
   "source": [
    "One hot encoding"
   ]
  },
  {
   "cell_type": "code",
   "execution_count": 13,
   "metadata": {},
   "outputs": [],
   "source": [
    "first_author = pd.get_dummies(df_list.first_author)\n",
    "last_author = pd.get_dummies(df_list.last_author)\n",
    "year = pd.get_dummies(df_list.year)"
   ]
  },
  {
   "cell_type": "markdown",
   "metadata": {},
   "source": [
    "Train/Test Data and Split"
   ]
  },
  {
   "cell_type": "code",
   "execution_count": 14,
   "metadata": {},
   "outputs": [
    {
     "name": "stdout",
     "output_type": "stream",
     "text": [
      "   afifi, mahmoud  agudo, antonio  albl, cenek  barath, daniel  \\\n",
      "0               0               0            0               0   \n",
      "\n",
      "   barron, jonathan t.  bernard, florian  bertasius, gedas  \\\n",
      "0                    0                 0                 0   \n",
      "\n",
      "   bhattacharyya, apratim  bhunia, ayan kumar  bilen, hakan  ...  2013  2014  \\\n",
      "0                       0                   0             0  ...     1     0   \n",
      "\n",
      "   2015  2016  2017  2018  2019  2020  2021  cur_citation_count  \n",
      "0     0     0     0     0     0     0     0                   1  \n",
      "\n",
      "[1 rows x 714 columns]\n",
      "0   88 days\n",
      "Name: time_to_next, dtype: timedelta64[ns]\n"
     ]
    }
   ],
   "source": [
    "X = pd.concat([first_author, last_author, year, df_list[\"cur_citation_count\"]], axis=\"columns\")\n",
    "y = df_list.time_to_next\n",
    "print(X.head(1))\n",
    "print(y.head(1))"
   ]
  },
  {
   "cell_type": "code",
   "execution_count": 15,
   "metadata": {},
   "outputs": [
    {
     "data": {
      "text/plain": [
       "afifi, mahmoud         0\n",
       "agudo, antonio         0\n",
       "albl, cenek            0\n",
       "barath, daniel         0\n",
       "barron, jonathan t.    0\n",
       "                      ..\n",
       "2018                   0\n",
       "2019                   0\n",
       "2020                   0\n",
       "2021                   0\n",
       "cur_citation_count     0\n",
       "Length: 714, dtype: int64"
      ]
     },
     "execution_count": 15,
     "metadata": {},
     "output_type": "execute_result"
    }
   ],
   "source": [
    "X.isna().sum()"
   ]
  },
  {
   "cell_type": "markdown",
   "metadata": {},
   "source": [
    "Train/Test Split"
   ]
  },
  {
   "cell_type": "code",
   "execution_count": 16,
   "metadata": {},
   "outputs": [
    {
     "data": {
      "text/plain": [
       "0     88\n",
       "1     60\n",
       "2    153\n",
       "Name: time_to_next, dtype: int64"
      ]
     },
     "execution_count": 16,
     "metadata": {},
     "output_type": "execute_result"
    }
   ],
   "source": [
    "y = y.apply(lambda x: x.days) # use days as units not ns\n",
    "y.head(3)"
   ]
  },
  {
   "cell_type": "code",
   "execution_count": 17,
   "metadata": {},
   "outputs": [
    {
     "name": "stderr",
     "output_type": "stream",
     "text": [
      "c:\\Users\\ceku\\anaconda3\\lib\\site-packages\\sklearn\\utils\\validation.py:1688: FutureWarning: Feature names only support names that are all strings. Got feature names with dtypes: ['int', 'str']. An error will be raised in 1.2.\n",
      "  warnings.warn(\n",
      "c:\\Users\\ceku\\anaconda3\\lib\\site-packages\\sklearn\\utils\\validation.py:1688: FutureWarning: Feature names only support names that are all strings. Got feature names with dtypes: ['int', 'str']. An error will be raised in 1.2.\n",
      "  warnings.warn(\n"
     ]
    }
   ],
   "source": [
    "xtrain, xtest, ytrain, ytest = train_test_split(X,y,test_size=0.2,random_state=12345)\n",
    "reg = LinearRegression()\n",
    "reg.fit(xtrain, ytrain)\n",
    "pred = reg.predict(xtest)\n",
    "err = mean_squared_error(ytest,pred)"
   ]
  },
  {
   "cell_type": "code",
   "execution_count": 21,
   "metadata": {},
   "outputs": [
    {
     "name": "stderr",
     "output_type": "stream",
     "text": [
      "c:\\Users\\ceku\\anaconda3\\lib\\site-packages\\sklearn\\model_selection\\_split.py:676: UserWarning: The least populated class in y has only 1 members, which is less than n_splits=3.\n",
      "  warnings.warn(\n",
      "c:\\Users\\ceku\\anaconda3\\lib\\site-packages\\sklearn\\utils\\validation.py:1688: FutureWarning: Feature names only support names that are all strings. Got feature names with dtypes: ['int', 'str']. An error will be raised in 1.2.\n",
      "  warnings.warn(\n",
      "c:\\Users\\ceku\\anaconda3\\lib\\site-packages\\sklearn\\utils\\validation.py:1688: FutureWarning: Feature names only support names that are all strings. Got feature names with dtypes: ['int', 'str']. An error will be raised in 1.2.\n",
      "  warnings.warn(\n",
      "c:\\Users\\ceku\\anaconda3\\lib\\site-packages\\sklearn\\utils\\validation.py:1688: FutureWarning: Feature names only support names that are all strings. Got feature names with dtypes: ['int', 'str']. An error will be raised in 1.2.\n",
      "  warnings.warn(\n",
      "c:\\Users\\ceku\\anaconda3\\lib\\site-packages\\sklearn\\utils\\validation.py:1688: FutureWarning: Feature names only support names that are all strings. Got feature names with dtypes: ['int', 'str']. An error will be raised in 1.2.\n",
      "  warnings.warn(\n",
      "c:\\Users\\ceku\\anaconda3\\lib\\site-packages\\sklearn\\utils\\validation.py:1688: FutureWarning: Feature names only support names that are all strings. Got feature names with dtypes: ['int', 'str']. An error will be raised in 1.2.\n",
      "  warnings.warn(\n",
      "c:\\Users\\ceku\\anaconda3\\lib\\site-packages\\sklearn\\utils\\validation.py:1688: FutureWarning: Feature names only support names that are all strings. Got feature names with dtypes: ['int', 'str']. An error will be raised in 1.2.\n",
      "  warnings.warn(\n",
      "c:\\Users\\ceku\\anaconda3\\lib\\site-packages\\sklearn\\utils\\validation.py:1688: FutureWarning: Feature names only support names that are all strings. Got feature names with dtypes: ['int', 'str']. An error will be raised in 1.2.\n",
      "  warnings.warn(\n",
      "c:\\Users\\ceku\\anaconda3\\lib\\site-packages\\sklearn\\utils\\validation.py:1688: FutureWarning: Feature names only support names that are all strings. Got feature names with dtypes: ['int', 'str']. An error will be raised in 1.2.\n",
      "  warnings.warn(\n",
      "c:\\Users\\ceku\\anaconda3\\lib\\site-packages\\sklearn\\utils\\validation.py:1688: FutureWarning: Feature names only support names that are all strings. Got feature names with dtypes: ['int', 'str']. An error will be raised in 1.2.\n",
      "  warnings.warn(\n",
      "c:\\Users\\ceku\\anaconda3\\lib\\site-packages\\sklearn\\utils\\validation.py:1688: FutureWarning: Feature names only support names that are all strings. Got feature names with dtypes: ['int', 'str']. An error will be raised in 1.2.\n",
      "  warnings.warn(\n",
      "c:\\Users\\ceku\\anaconda3\\lib\\site-packages\\sklearn\\utils\\validation.py:1688: FutureWarning: Feature names only support names that are all strings. Got feature names with dtypes: ['int', 'str']. An error will be raised in 1.2.\n",
      "  warnings.warn(\n",
      "c:\\Users\\ceku\\anaconda3\\lib\\site-packages\\sklearn\\utils\\validation.py:1688: FutureWarning: Feature names only support names that are all strings. Got feature names with dtypes: ['int', 'str']. An error will be raised in 1.2.\n",
      "  warnings.warn(\n",
      "c:\\Users\\ceku\\anaconda3\\lib\\site-packages\\sklearn\\utils\\validation.py:1688: FutureWarning: Feature names only support names that are all strings. Got feature names with dtypes: ['int', 'str']. An error will be raised in 1.2.\n",
      "  warnings.warn(\n",
      "c:\\Users\\ceku\\anaconda3\\lib\\site-packages\\sklearn\\utils\\validation.py:1688: FutureWarning: Feature names only support names that are all strings. Got feature names with dtypes: ['int', 'str']. An error will be raised in 1.2.\n",
      "  warnings.warn(\n",
      "c:\\Users\\ceku\\anaconda3\\lib\\site-packages\\sklearn\\utils\\validation.py:1688: FutureWarning: Feature names only support names that are all strings. Got feature names with dtypes: ['int', 'str']. An error will be raised in 1.2.\n",
      "  warnings.warn(\n",
      "c:\\Users\\ceku\\anaconda3\\lib\\site-packages\\sklearn\\utils\\validation.py:1688: FutureWarning: Feature names only support names that are all strings. Got feature names with dtypes: ['int', 'str']. An error will be raised in 1.2.\n",
      "  warnings.warn(\n",
      "c:\\Users\\ceku\\anaconda3\\lib\\site-packages\\sklearn\\utils\\validation.py:1688: FutureWarning: Feature names only support names that are all strings. Got feature names with dtypes: ['int', 'str']. An error will be raised in 1.2.\n",
      "  warnings.warn(\n",
      "c:\\Users\\ceku\\anaconda3\\lib\\site-packages\\sklearn\\utils\\validation.py:1688: FutureWarning: Feature names only support names that are all strings. Got feature names with dtypes: ['int', 'str']. An error will be raised in 1.2.\n",
      "  warnings.warn(\n",
      "c:\\Users\\ceku\\anaconda3\\lib\\site-packages\\sklearn\\utils\\validation.py:1688: FutureWarning: Feature names only support names that are all strings. Got feature names with dtypes: ['int', 'str']. An error will be raised in 1.2.\n",
      "  warnings.warn(\n",
      "c:\\Users\\ceku\\anaconda3\\lib\\site-packages\\sklearn\\utils\\validation.py:1688: FutureWarning: Feature names only support names that are all strings. Got feature names with dtypes: ['int', 'str']. An error will be raised in 1.2.\n",
      "  warnings.warn(\n",
      "c:\\Users\\ceku\\anaconda3\\lib\\site-packages\\sklearn\\utils\\validation.py:1688: FutureWarning: Feature names only support names that are all strings. Got feature names with dtypes: ['int', 'str']. An error will be raised in 1.2.\n",
      "  warnings.warn(\n",
      "c:\\Users\\ceku\\anaconda3\\lib\\site-packages\\sklearn\\utils\\validation.py:1688: FutureWarning: Feature names only support names that are all strings. Got feature names with dtypes: ['int', 'str']. An error will be raised in 1.2.\n",
      "  warnings.warn(\n",
      "c:\\Users\\ceku\\anaconda3\\lib\\site-packages\\sklearn\\utils\\validation.py:1688: FutureWarning: Feature names only support names that are all strings. Got feature names with dtypes: ['int', 'str']. An error will be raised in 1.2.\n",
      "  warnings.warn(\n",
      "c:\\Users\\ceku\\anaconda3\\lib\\site-packages\\sklearn\\utils\\validation.py:1688: FutureWarning: Feature names only support names that are all strings. Got feature names with dtypes: ['int', 'str']. An error will be raised in 1.2.\n",
      "  warnings.warn(\n"
     ]
    }
   ],
   "source": [
    "models = {\"linear_regression\":LinearRegression(),\n",
    "          \"bayesian_ard\": ARDRegression(),\n",
    "          \"ransac\": RANSACRegressor(),\n",
    "          \"decision_tree\":DecisionTreeRegressor()}\n",
    "results = []\n",
    "skf = StratifiedKFold(n_splits=3)\n",
    "for train_index, test_index in skf.split(X, y):\n",
    "    for name, model in models.items():\n",
    "        model.fit(X.iloc[train_index,:], y.iloc[train_index])\n",
    "        pred = model.predict(X.iloc[test_index,:])\n",
    "        err = mean_squared_error(y.iloc[test_index], pred)\n",
    "        results.append({\"model\":name, \"MSE\": err})"
   ]
  },
  {
   "cell_type": "code",
   "execution_count": 22,
   "metadata": {},
   "outputs": [
    {
     "name": "stdout",
     "output_type": "stream",
     "text": [
      "                model           MSE\n",
      "0   linear_regression  2.197110e+05\n",
      "1        bayesian_ard  2.198996e+05\n",
      "2              ransac  2.052819e+04\n",
      "3       decision_tree  1.242094e+05\n",
      "4   linear_regression  1.151448e+11\n",
      "5        bayesian_ard  5.587084e+03\n",
      "6              ransac  1.735287e+12\n",
      "7       decision_tree  2.013978e+04\n",
      "8   linear_regression  6.113315e+04\n",
      "9        bayesian_ard  5.778642e+04\n",
      "10             ransac  2.840810e+13\n",
      "11      decision_tree  9.335559e+03\n"
     ]
    }
   ],
   "source": [
    "results_df = pd.DataFrame(results)\n",
    "print(results_df)"
   ]
  },
  {
   "cell_type": "code",
   "execution_count": 30,
   "metadata": {},
   "outputs": [
    {
     "name": "stderr",
     "output_type": "stream",
     "text": [
      "c:\\Users\\ceku\\anaconda3\\lib\\site-packages\\sklearn\\utils\\validation.py:1688: FutureWarning: Feature names only support names that are all strings. Got feature names with dtypes: ['int', 'str']. An error will be raised in 1.2.\n",
      "  warnings.warn(\n"
     ]
    },
    {
     "data": {
      "text/plain": [
       "DecisionTreeRegressor()"
      ]
     },
     "execution_count": 30,
     "metadata": {},
     "output_type": "execute_result"
    }
   ],
   "source": [
    "reg = DecisionTreeRegressor()\n",
    "reg.fit(xtrain, ytrain)"
   ]
  },
  {
   "cell_type": "markdown",
   "metadata": {},
   "source": [
    "Save Model and Author Names to File"
   ]
  },
  {
   "cell_type": "code",
   "execution_count": 31,
   "metadata": {},
   "outputs": [],
   "source": [
    "# save model\n",
    "import pickle\n",
    "with open(\"model\\\\model.pickle\", \"wb\") as f:\n",
    "    pickle.dump(reg,f)\n",
    "\n",
    "# save names\n",
    "pd.DataFrame(first_author_filtered.index.to_list()).to_csv(\"model\\\\first_author.csv\", index=False, header=False)\n",
    "pd.DataFrame(last_author_filtered.index.to_list()).to_csv(\"model\\\\last_author.csv\", index=False, header=False)"
   ]
  },
  {
   "cell_type": "code",
   "execution_count": null,
   "metadata": {},
   "outputs": [],
   "source": []
  }
 ],
 "metadata": {
  "kernelspec": {
   "display_name": "Python 3.9.12 ('base')",
   "language": "python",
   "name": "python3"
  },
  "language_info": {
   "codemirror_mode": {
    "name": "ipython",
    "version": 3
   },
   "file_extension": ".py",
   "mimetype": "text/x-python",
   "name": "python",
   "nbconvert_exporter": "python",
   "pygments_lexer": "ipython3",
   "version": "3.9.12"
  },
  "orig_nbformat": 4,
  "vscode": {
   "interpreter": {
    "hash": "5bb167dcc8e0362259233268f8aabb06284b5cd30446df487de294e1c7e8a6f1"
   }
  }
 },
 "nbformat": 4,
 "nbformat_minor": 2
}
