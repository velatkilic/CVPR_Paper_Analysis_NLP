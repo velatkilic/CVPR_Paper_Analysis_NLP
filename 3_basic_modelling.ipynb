{
 "cells": [
  {
   "cell_type": "code",
   "execution_count": 1,
   "metadata": {},
   "outputs": [
    {
     "name": "stderr",
     "output_type": "stream",
     "text": [
      "c:\\Users\\ceku\\anaconda3\\lib\\site-packages\\xgboost\\compat.py:36: FutureWarning: pandas.Int64Index is deprecated and will be removed from pandas in a future version. Use pandas.Index with the appropriate dtype instead.\n",
      "  from pandas import MultiIndex, Int64Index\n"
     ]
    }
   ],
   "source": [
    "import numpy as np\n",
    "import pandas as pd\n",
    "\n",
    "from sklearn.model_selection import train_test_split, StratifiedKFold\n",
    "from sklearn.linear_model import LinearRegression, ARDRegression, RANSACRegressor\n",
    "from sklearn.tree import DecisionTreeRegressor\n",
    "from sklearn.metrics import mean_squared_error\n",
    "\n",
    "from xgboost import XGBRegressor"
   ]
  },
  {
   "cell_type": "code",
   "execution_count": 2,
   "metadata": {},
   "outputs": [
    {
     "data": {
      "text/html": [
       "<div>\n",
       "<style scoped>\n",
       "    .dataframe tbody tr th:only-of-type {\n",
       "        vertical-align: middle;\n",
       "    }\n",
       "\n",
       "    .dataframe tbody tr th {\n",
       "        vertical-align: top;\n",
       "    }\n",
       "\n",
       "    .dataframe thead th {\n",
       "        text-align: right;\n",
       "    }\n",
       "</style>\n",
       "<table border=\"1\" class=\"dataframe\">\n",
       "  <thead>\n",
       "    <tr style=\"text-align: right;\">\n",
       "      <th></th>\n",
       "      <th>title</th>\n",
       "      <th>authors</th>\n",
       "      <th>abstract</th>\n",
       "      <th>link</th>\n",
       "      <th>year</th>\n",
       "      <th>citation_count</th>\n",
       "      <th>doi</th>\n",
       "      <th>citation</th>\n",
       "      <th>title_open_cite</th>\n",
       "      <th>topic_class</th>\n",
       "    </tr>\n",
       "  </thead>\n",
       "  <tbody>\n",
       "    <tr>\n",
       "      <th>0</th>\n",
       "      <td>Deformable Spatial Pyramid Matching for Fast D...</td>\n",
       "      <td>Jaechul Kim, Ce Liu, Fei Sha, Kristen Grauman</td>\n",
       "      <td>We introduce a fast deformable spatial pyramid...</td>\n",
       "      <td>content_cvpr_2013/papers/Kim_Deformable_Spatia...</td>\n",
       "      <td>2013</td>\n",
       "      <td>120</td>\n",
       "      <td>10.1109/cvpr.2013.299</td>\n",
       "      <td>10.1007/978-3-030-01249-6_36; 10.2493/jjspe.84...</td>\n",
       "      <td>deformable spatial pyramid matching for fast d...</td>\n",
       "      <td>0</td>\n",
       "    </tr>\n",
       "  </tbody>\n",
       "</table>\n",
       "</div>"
      ],
      "text/plain": [
       "                                               title  \\\n",
       "0  Deformable Spatial Pyramid Matching for Fast D...   \n",
       "\n",
       "                                         authors  \\\n",
       "0  Jaechul Kim, Ce Liu, Fei Sha, Kristen Grauman   \n",
       "\n",
       "                                            abstract  \\\n",
       "0  We introduce a fast deformable spatial pyramid...   \n",
       "\n",
       "                                                link  year  citation_count  \\\n",
       "0  content_cvpr_2013/papers/Kim_Deformable_Spatia...  2013             120   \n",
       "\n",
       "                     doi                                           citation  \\\n",
       "0  10.1109/cvpr.2013.299  10.1007/978-3-030-01249-6_36; 10.2493/jjspe.84...   \n",
       "\n",
       "                                     title_open_cite  topic_class  \n",
       "0  deformable spatial pyramid matching for fast d...            0  "
      ]
     },
     "execution_count": 2,
     "metadata": {},
     "output_type": "execute_result"
    }
   ],
   "source": [
    "df = pd.read_csv(\"cvpr_data_with_topics.csv\")\n",
    "df.head(1)"
   ]
  },
  {
   "cell_type": "markdown",
   "metadata": {},
   "source": [
    "From temporal dynamics, we know the papers plateau after 1-3 years and the citation statistics below paint a similar picture"
   ]
  },
  {
   "cell_type": "code",
   "execution_count": 3,
   "metadata": {},
   "outputs": [
    {
     "data": {
      "text/html": [
       "<div>\n",
       "<style scoped>\n",
       "    .dataframe tbody tr th:only-of-type {\n",
       "        vertical-align: middle;\n",
       "    }\n",
       "\n",
       "    .dataframe tbody tr th {\n",
       "        vertical-align: top;\n",
       "    }\n",
       "\n",
       "    .dataframe thead th {\n",
       "        text-align: right;\n",
       "    }\n",
       "</style>\n",
       "<table border=\"1\" class=\"dataframe\">\n",
       "  <thead>\n",
       "    <tr style=\"text-align: right;\">\n",
       "      <th></th>\n",
       "      <th>count</th>\n",
       "      <th>mean</th>\n",
       "      <th>std</th>\n",
       "      <th>min</th>\n",
       "      <th>25%</th>\n",
       "      <th>50%</th>\n",
       "      <th>75%</th>\n",
       "      <th>max</th>\n",
       "    </tr>\n",
       "    <tr>\n",
       "      <th>year</th>\n",
       "      <th></th>\n",
       "      <th></th>\n",
       "      <th></th>\n",
       "      <th></th>\n",
       "      <th></th>\n",
       "      <th></th>\n",
       "      <th></th>\n",
       "      <th></th>\n",
       "    </tr>\n",
       "  </thead>\n",
       "  <tbody>\n",
       "    <tr>\n",
       "      <th>2013</th>\n",
       "      <td>471.0</td>\n",
       "      <td>61.983015</td>\n",
       "      <td>113.848181</td>\n",
       "      <td>0.0</td>\n",
       "      <td>13.0</td>\n",
       "      <td>32.0</td>\n",
       "      <td>66.50</td>\n",
       "      <td>1531.0</td>\n",
       "    </tr>\n",
       "    <tr>\n",
       "      <th>2014</th>\n",
       "      <td>540.0</td>\n",
       "      <td>68.862963</td>\n",
       "      <td>297.099728</td>\n",
       "      <td>0.0</td>\n",
       "      <td>10.0</td>\n",
       "      <td>23.0</td>\n",
       "      <td>49.25</td>\n",
       "      <td>6032.0</td>\n",
       "    </tr>\n",
       "    <tr>\n",
       "      <th>2015</th>\n",
       "      <td>599.0</td>\n",
       "      <td>84.088481</td>\n",
       "      <td>475.864112</td>\n",
       "      <td>0.0</td>\n",
       "      <td>6.0</td>\n",
       "      <td>20.0</td>\n",
       "      <td>54.00</td>\n",
       "      <td>9377.0</td>\n",
       "    </tr>\n",
       "    <tr>\n",
       "      <th>2016</th>\n",
       "      <td>643.0</td>\n",
       "      <td>110.917574</td>\n",
       "      <td>920.885537</td>\n",
       "      <td>0.0</td>\n",
       "      <td>8.0</td>\n",
       "      <td>23.0</td>\n",
       "      <td>65.50</td>\n",
       "      <td>22369.0</td>\n",
       "    </tr>\n",
       "    <tr>\n",
       "      <th>2017</th>\n",
       "      <td>782.0</td>\n",
       "      <td>68.805627</td>\n",
       "      <td>258.558078</td>\n",
       "      <td>0.0</td>\n",
       "      <td>8.0</td>\n",
       "      <td>20.0</td>\n",
       "      <td>51.00</td>\n",
       "      <td>4870.0</td>\n",
       "    </tr>\n",
       "    <tr>\n",
       "      <th>2018</th>\n",
       "      <td>978.0</td>\n",
       "      <td>39.525562</td>\n",
       "      <td>105.193772</td>\n",
       "      <td>0.0</td>\n",
       "      <td>6.0</td>\n",
       "      <td>17.0</td>\n",
       "      <td>42.00</td>\n",
       "      <td>1982.0</td>\n",
       "    </tr>\n",
       "    <tr>\n",
       "      <th>2019</th>\n",
       "      <td>1294.0</td>\n",
       "      <td>19.833849</td>\n",
       "      <td>34.834792</td>\n",
       "      <td>0.0</td>\n",
       "      <td>5.0</td>\n",
       "      <td>10.0</td>\n",
       "      <td>22.00</td>\n",
       "      <td>639.0</td>\n",
       "    </tr>\n",
       "    <tr>\n",
       "      <th>2020</th>\n",
       "      <td>1320.0</td>\n",
       "      <td>12.496212</td>\n",
       "      <td>168.562193</td>\n",
       "      <td>0.0</td>\n",
       "      <td>2.0</td>\n",
       "      <td>4.0</td>\n",
       "      <td>8.00</td>\n",
       "      <td>6100.0</td>\n",
       "    </tr>\n",
       "    <tr>\n",
       "      <th>2021</th>\n",
       "      <td>1660.0</td>\n",
       "      <td>0.596988</td>\n",
       "      <td>1.690199</td>\n",
       "      <td>0.0</td>\n",
       "      <td>0.0</td>\n",
       "      <td>0.0</td>\n",
       "      <td>1.00</td>\n",
       "      <td>28.0</td>\n",
       "    </tr>\n",
       "  </tbody>\n",
       "</table>\n",
       "</div>"
      ],
      "text/plain": [
       "       count        mean         std  min   25%   50%    75%      max\n",
       "year                                                                 \n",
       "2013   471.0   61.983015  113.848181  0.0  13.0  32.0  66.50   1531.0\n",
       "2014   540.0   68.862963  297.099728  0.0  10.0  23.0  49.25   6032.0\n",
       "2015   599.0   84.088481  475.864112  0.0   6.0  20.0  54.00   9377.0\n",
       "2016   643.0  110.917574  920.885537  0.0   8.0  23.0  65.50  22369.0\n",
       "2017   782.0   68.805627  258.558078  0.0   8.0  20.0  51.00   4870.0\n",
       "2018   978.0   39.525562  105.193772  0.0   6.0  17.0  42.00   1982.0\n",
       "2019  1294.0   19.833849   34.834792  0.0   5.0  10.0  22.00    639.0\n",
       "2020  1320.0   12.496212  168.562193  0.0   2.0   4.0   8.00   6100.0\n",
       "2021  1660.0    0.596988    1.690199  0.0   0.0   0.0   1.00     28.0"
      ]
     },
     "execution_count": 3,
     "metadata": {},
     "output_type": "execute_result"
    }
   ],
   "source": [
    "citation_stats = df[df[\"citation_count\"] != -1].groupby(\"year\")[\"citation_count\"].describe()\n",
    "citation_stats"
   ]
  },
  {
   "cell_type": "markdown",
   "metadata": {},
   "source": [
    "Drop null citations and normalize by the 50th percentile for each year"
   ]
  },
  {
   "cell_type": "code",
   "execution_count": 4,
   "metadata": {},
   "outputs": [],
   "source": [
    "df = df[df[\"citation_count\"] != -1] # drop null citations"
   ]
  },
  {
   "cell_type": "code",
   "execution_count": 5,
   "metadata": {},
   "outputs": [
    {
     "data": {
      "text/plain": [
       "32.0"
      ]
     },
     "execution_count": 5,
     "metadata": {},
     "output_type": "execute_result"
    }
   ],
   "source": [
    "year = 2013\n",
    "ind = year - 2013\n",
    "citation_stats.iloc[ind,:][\"50%\"]"
   ]
  },
  {
   "cell_type": "code",
   "execution_count": 6,
   "metadata": {},
   "outputs": [
    {
     "data": {
      "text/html": [
       "<div>\n",
       "<style scoped>\n",
       "    .dataframe tbody tr th:only-of-type {\n",
       "        vertical-align: middle;\n",
       "    }\n",
       "\n",
       "    .dataframe tbody tr th {\n",
       "        vertical-align: top;\n",
       "    }\n",
       "\n",
       "    .dataframe thead th {\n",
       "        text-align: right;\n",
       "    }\n",
       "</style>\n",
       "<table border=\"1\" class=\"dataframe\">\n",
       "  <thead>\n",
       "    <tr style=\"text-align: right;\">\n",
       "      <th></th>\n",
       "      <th>count</th>\n",
       "      <th>mean</th>\n",
       "      <th>std</th>\n",
       "      <th>min</th>\n",
       "      <th>25%</th>\n",
       "      <th>50%</th>\n",
       "      <th>75%</th>\n",
       "      <th>max</th>\n",
       "    </tr>\n",
       "    <tr>\n",
       "      <th>year</th>\n",
       "      <th></th>\n",
       "      <th></th>\n",
       "      <th></th>\n",
       "      <th></th>\n",
       "      <th></th>\n",
       "      <th></th>\n",
       "      <th></th>\n",
       "      <th></th>\n",
       "    </tr>\n",
       "  </thead>\n",
       "  <tbody>\n",
       "    <tr>\n",
       "      <th>2013</th>\n",
       "      <td>471.0</td>\n",
       "      <td>29.983015</td>\n",
       "      <td>113.848181</td>\n",
       "      <td>-32.0</td>\n",
       "      <td>-19.0</td>\n",
       "      <td>0.0</td>\n",
       "      <td>34.50</td>\n",
       "      <td>1499.0</td>\n",
       "    </tr>\n",
       "    <tr>\n",
       "      <th>2014</th>\n",
       "      <td>540.0</td>\n",
       "      <td>45.862963</td>\n",
       "      <td>297.099728</td>\n",
       "      <td>-23.0</td>\n",
       "      <td>-13.0</td>\n",
       "      <td>0.0</td>\n",
       "      <td>26.25</td>\n",
       "      <td>6009.0</td>\n",
       "    </tr>\n",
       "    <tr>\n",
       "      <th>2015</th>\n",
       "      <td>599.0</td>\n",
       "      <td>64.088481</td>\n",
       "      <td>475.864112</td>\n",
       "      <td>-20.0</td>\n",
       "      <td>-14.0</td>\n",
       "      <td>0.0</td>\n",
       "      <td>34.00</td>\n",
       "      <td>9357.0</td>\n",
       "    </tr>\n",
       "    <tr>\n",
       "      <th>2016</th>\n",
       "      <td>643.0</td>\n",
       "      <td>87.917574</td>\n",
       "      <td>920.885537</td>\n",
       "      <td>-23.0</td>\n",
       "      <td>-15.0</td>\n",
       "      <td>0.0</td>\n",
       "      <td>42.50</td>\n",
       "      <td>22346.0</td>\n",
       "    </tr>\n",
       "    <tr>\n",
       "      <th>2017</th>\n",
       "      <td>782.0</td>\n",
       "      <td>48.805627</td>\n",
       "      <td>258.558078</td>\n",
       "      <td>-20.0</td>\n",
       "      <td>-12.0</td>\n",
       "      <td>0.0</td>\n",
       "      <td>31.00</td>\n",
       "      <td>4850.0</td>\n",
       "    </tr>\n",
       "    <tr>\n",
       "      <th>2018</th>\n",
       "      <td>978.0</td>\n",
       "      <td>22.525562</td>\n",
       "      <td>105.193772</td>\n",
       "      <td>-17.0</td>\n",
       "      <td>-11.0</td>\n",
       "      <td>0.0</td>\n",
       "      <td>25.00</td>\n",
       "      <td>1965.0</td>\n",
       "    </tr>\n",
       "    <tr>\n",
       "      <th>2019</th>\n",
       "      <td>1294.0</td>\n",
       "      <td>9.833849</td>\n",
       "      <td>34.834792</td>\n",
       "      <td>-10.0</td>\n",
       "      <td>-5.0</td>\n",
       "      <td>0.0</td>\n",
       "      <td>12.00</td>\n",
       "      <td>629.0</td>\n",
       "    </tr>\n",
       "    <tr>\n",
       "      <th>2020</th>\n",
       "      <td>1320.0</td>\n",
       "      <td>8.496212</td>\n",
       "      <td>168.562193</td>\n",
       "      <td>-4.0</td>\n",
       "      <td>-2.0</td>\n",
       "      <td>0.0</td>\n",
       "      <td>4.00</td>\n",
       "      <td>6096.0</td>\n",
       "    </tr>\n",
       "    <tr>\n",
       "      <th>2021</th>\n",
       "      <td>1660.0</td>\n",
       "      <td>0.596988</td>\n",
       "      <td>1.690199</td>\n",
       "      <td>0.0</td>\n",
       "      <td>0.0</td>\n",
       "      <td>0.0</td>\n",
       "      <td>1.00</td>\n",
       "      <td>28.0</td>\n",
       "    </tr>\n",
       "  </tbody>\n",
       "</table>\n",
       "</div>"
      ],
      "text/plain": [
       "       count       mean         std   min   25%  50%    75%      max\n",
       "year                                                                \n",
       "2013   471.0  29.983015  113.848181 -32.0 -19.0  0.0  34.50   1499.0\n",
       "2014   540.0  45.862963  297.099728 -23.0 -13.0  0.0  26.25   6009.0\n",
       "2015   599.0  64.088481  475.864112 -20.0 -14.0  0.0  34.00   9357.0\n",
       "2016   643.0  87.917574  920.885537 -23.0 -15.0  0.0  42.50  22346.0\n",
       "2017   782.0  48.805627  258.558078 -20.0 -12.0  0.0  31.00   4850.0\n",
       "2018   978.0  22.525562  105.193772 -17.0 -11.0  0.0  25.00   1965.0\n",
       "2019  1294.0   9.833849   34.834792 -10.0  -5.0  0.0  12.00    629.0\n",
       "2020  1320.0   8.496212  168.562193  -4.0  -2.0  0.0   4.00   6096.0\n",
       "2021  1660.0   0.596988    1.690199   0.0   0.0  0.0   1.00     28.0"
      ]
     },
     "execution_count": 6,
     "metadata": {},
     "output_type": "execute_result"
    }
   ],
   "source": [
    "df[\"citation_count\"] = df.apply(lambda x: x[\"citation_count\"] - citation_stats.iloc[x[\"year\"]-2013,:][\"50%\"], axis=1)\n",
    "citation_stats_norm = df.groupby(\"year\")[\"citation_count\"].describe()\n",
    "citation_stats_norm"
   ]
  },
  {
   "cell_type": "markdown",
   "metadata": {},
   "source": [
    "50th percentile are very similar for [2013, 2017]. After that, papers likely did not have enough time to accrue citations. Discard the years 2020 and 2021."
   ]
  },
  {
   "cell_type": "code",
   "execution_count": 7,
   "metadata": {},
   "outputs": [
    {
     "data": {
      "text/html": [
       "<div>\n",
       "<style scoped>\n",
       "    .dataframe tbody tr th:only-of-type {\n",
       "        vertical-align: middle;\n",
       "    }\n",
       "\n",
       "    .dataframe tbody tr th {\n",
       "        vertical-align: top;\n",
       "    }\n",
       "\n",
       "    .dataframe thead th {\n",
       "        text-align: right;\n",
       "    }\n",
       "</style>\n",
       "<table border=\"1\" class=\"dataframe\">\n",
       "  <thead>\n",
       "    <tr style=\"text-align: right;\">\n",
       "      <th></th>\n",
       "      <th>authors</th>\n",
       "      <th>year</th>\n",
       "      <th>citation_count</th>\n",
       "      <th>topic_class</th>\n",
       "    </tr>\n",
       "  </thead>\n",
       "  <tbody>\n",
       "    <tr>\n",
       "      <th>0</th>\n",
       "      <td>Jaechul Kim, Ce Liu, Fei Sha, Kristen Grauman</td>\n",
       "      <td>2013</td>\n",
       "      <td>88.0</td>\n",
       "      <td>0</td>\n",
       "    </tr>\n",
       "  </tbody>\n",
       "</table>\n",
       "</div>"
      ],
      "text/plain": [
       "                                         authors  year  citation_count  \\\n",
       "0  Jaechul Kim, Ce Liu, Fei Sha, Kristen Grauman  2013            88.0   \n",
       "\n",
       "   topic_class  \n",
       "0            0  "
      ]
     },
     "execution_count": 7,
     "metadata": {},
     "output_type": "execute_result"
    }
   ],
   "source": [
    "df = df[~df[\"year\"].isin([2020,2021])][[\"authors\", \"year\", \"citation_count\", \"topic_class\"]] # drop 2020,2021 and only keep some of the columns\n",
    "df.head(1)"
   ]
  },
  {
   "cell_type": "markdown",
   "metadata": {},
   "source": [
    "Feature vector would be too large if we kept all the authors. Let's just keep the PI who is usually the last author:"
   ]
  },
  {
   "cell_type": "code",
   "execution_count": 8,
   "metadata": {},
   "outputs": [
    {
     "data": {
      "text/html": [
       "<div>\n",
       "<style scoped>\n",
       "    .dataframe tbody tr th:only-of-type {\n",
       "        vertical-align: middle;\n",
       "    }\n",
       "\n",
       "    .dataframe tbody tr th {\n",
       "        vertical-align: top;\n",
       "    }\n",
       "\n",
       "    .dataframe thead th {\n",
       "        text-align: right;\n",
       "    }\n",
       "</style>\n",
       "<table border=\"1\" class=\"dataframe\">\n",
       "  <thead>\n",
       "    <tr style=\"text-align: right;\">\n",
       "      <th></th>\n",
       "      <th>authors</th>\n",
       "      <th>year</th>\n",
       "      <th>citation_count</th>\n",
       "      <th>topic_class</th>\n",
       "    </tr>\n",
       "  </thead>\n",
       "  <tbody>\n",
       "    <tr>\n",
       "      <th>0</th>\n",
       "      <td>kristen grauman</td>\n",
       "      <td>2013</td>\n",
       "      <td>88.0</td>\n",
       "      <td>0</td>\n",
       "    </tr>\n",
       "  </tbody>\n",
       "</table>\n",
       "</div>"
      ],
      "text/plain": [
       "           authors  year  citation_count  topic_class\n",
       "0  kristen grauman  2013            88.0            0"
      ]
     },
     "execution_count": 8,
     "metadata": {},
     "output_type": "execute_result"
    }
   ],
   "source": [
    "df[\"authors\"] = df[\"authors\"].apply(lambda x: (x.split(\",\"))[-1].strip().lower())\n",
    "df.head(1)"
   ]
  },
  {
   "cell_type": "markdown",
   "metadata": {},
   "source": [
    "Including all last authors would still give a very high dimensional vector, so we filter by total number of papers"
   ]
  },
  {
   "cell_type": "code",
   "execution_count": 9,
   "metadata": {},
   "outputs": [
    {
     "name": "stdout",
     "output_type": "stream",
     "text": [
      "Total number of unique PIs 1930\n",
      "Number of PIs with more than 10 papers: 89\n"
     ]
    }
   ],
   "source": [
    "upi = len(df[\"authors\"].unique())\n",
    "print(f\"Total number of unique PIs {upi}\")\n",
    "cpi = df[\"authors\"].value_counts(ascending=False)\n",
    "pcount = 10\n",
    "upi = len(cpi[cpi>pcount])\n",
    "print(f\"Number of PIs with more than {pcount} papers: {upi}\") # PIs more than 10 would be very successful"
   ]
  },
  {
   "cell_type": "markdown",
   "metadata": {},
   "source": [
    "Convert authors with low citation counts to \"other\""
   ]
  },
  {
   "cell_type": "code",
   "execution_count": 10,
   "metadata": {},
   "outputs": [
    {
     "data": {
      "text/html": [
       "<div>\n",
       "<style scoped>\n",
       "    .dataframe tbody tr th:only-of-type {\n",
       "        vertical-align: middle;\n",
       "    }\n",
       "\n",
       "    .dataframe tbody tr th {\n",
       "        vertical-align: top;\n",
       "    }\n",
       "\n",
       "    .dataframe thead th {\n",
       "        text-align: right;\n",
       "    }\n",
       "</style>\n",
       "<table border=\"1\" class=\"dataframe\">\n",
       "  <thead>\n",
       "    <tr style=\"text-align: right;\">\n",
       "      <th></th>\n",
       "      <th>authors</th>\n",
       "      <th>year</th>\n",
       "      <th>citation_count</th>\n",
       "      <th>topic_class</th>\n",
       "    </tr>\n",
       "  </thead>\n",
       "  <tbody>\n",
       "    <tr>\n",
       "      <th>0</th>\n",
       "      <td>kristen grauman</td>\n",
       "      <td>2013</td>\n",
       "      <td>88.0</td>\n",
       "      <td>0</td>\n",
       "    </tr>\n",
       "    <tr>\n",
       "      <th>1</th>\n",
       "      <td>other</td>\n",
       "      <td>2013</td>\n",
       "      <td>-6.0</td>\n",
       "      <td>0</td>\n",
       "    </tr>\n",
       "    <tr>\n",
       "      <th>2</th>\n",
       "      <td>other</td>\n",
       "      <td>2013</td>\n",
       "      <td>-13.0</td>\n",
       "      <td>0</td>\n",
       "    </tr>\n",
       "  </tbody>\n",
       "</table>\n",
       "</div>"
      ],
      "text/plain": [
       "           authors  year  citation_count  topic_class\n",
       "0  kristen grauman  2013            88.0            0\n",
       "1            other  2013            -6.0            0\n",
       "2            other  2013           -13.0            0"
      ]
     },
     "execution_count": 10,
     "metadata": {},
     "output_type": "execute_result"
    }
   ],
   "source": [
    "PI_filtered = cpi[cpi>10]\n",
    "df[\"authors\"] = df[\"authors\"].apply(lambda x: x if x in PI_filtered else \"other\")\n",
    "\n",
    "df.head(3)"
   ]
  },
  {
   "cell_type": "code",
   "execution_count": 11,
   "metadata": {},
   "outputs": [
    {
     "data": {
      "text/plain": [
       "90"
      ]
     },
     "execution_count": 11,
     "metadata": {},
     "output_type": "execute_result"
    }
   ],
   "source": [
    "len(df[\"authors\"].unique())"
   ]
  },
  {
   "cell_type": "markdown",
   "metadata": {},
   "source": [
    "One hot encoding"
   ]
  },
  {
   "cell_type": "code",
   "execution_count": 12,
   "metadata": {},
   "outputs": [],
   "source": [
    "PI_onehot = pd.get_dummies(df.authors)\n",
    "year_onehot = pd.get_dummies(df.year)\n",
    "topics_onehot = pd.get_dummies(df.topic_class)"
   ]
  },
  {
   "cell_type": "markdown",
   "metadata": {},
   "source": [
    "Train/Test Data and Split"
   ]
  },
  {
   "cell_type": "code",
   "execution_count": 13,
   "metadata": {},
   "outputs": [
    {
     "name": "stdout",
     "output_type": "stream",
     "text": [
      "(5307, 137)\n",
      "(5307,)\n"
     ]
    }
   ],
   "source": [
    "X = pd.concat([PI_onehot, year_onehot, topics_onehot], axis=\"columns\")\n",
    "y = df.citation_count\n",
    "print(X.shape)\n",
    "print(y.shape)"
   ]
  },
  {
   "cell_type": "markdown",
   "metadata": {},
   "source": [
    "Train/Test Split"
   ]
  },
  {
   "cell_type": "code",
   "execution_count": 14,
   "metadata": {},
   "outputs": [],
   "source": [
    "xtrain, xtest, ytrain, ytest = train_test_split(X,y,test_size=0.2,random_state=12345)"
   ]
  },
  {
   "cell_type": "markdown",
   "metadata": {},
   "source": [
    "Linear regression (which results in terrible predictions)"
   ]
  },
  {
   "cell_type": "code",
   "execution_count": 15,
   "metadata": {},
   "outputs": [],
   "source": [
    "# ignore future warnings\n",
    "from warnings import simplefilter\n",
    "simplefilter(action='ignore', category=FutureWarning)"
   ]
  },
  {
   "cell_type": "code",
   "execution_count": 16,
   "metadata": {},
   "outputs": [
    {
     "data": {
      "text/plain": [
       "0.06207443213140584"
      ]
     },
     "execution_count": 16,
     "metadata": {},
     "output_type": "execute_result"
    }
   ],
   "source": [
    "reg = LinearRegression()\n",
    "reg.fit(xtrain, ytrain)\n",
    "reg.score(xtrain, ytrain)"
   ]
  },
  {
   "cell_type": "code",
   "execution_count": 17,
   "metadata": {},
   "outputs": [
    {
     "data": {
      "text/plain": [
       "221.20077734561667"
      ]
     },
     "execution_count": 17,
     "metadata": {},
     "output_type": "execute_result"
    }
   ],
   "source": [
    "pred = reg.predict(xtest)\n",
    "err = mean_squared_error(ytest,pred)\n",
    "np.sqrt(err)"
   ]
  },
  {
   "cell_type": "markdown",
   "metadata": {},
   "source": [
    "Other Sklearn models"
   ]
  },
  {
   "cell_type": "code",
   "execution_count": 20,
   "metadata": {},
   "outputs": [
    {
     "name": "stderr",
     "output_type": "stream",
     "text": [
      "c:\\Users\\ceku\\anaconda3\\lib\\site-packages\\sklearn\\model_selection\\_split.py:676: UserWarning: The least populated class in y has only 1 members, which is less than n_splits=3.\n",
      "  warnings.warn(\n"
     ]
    },
    {
     "name": "stdout",
     "output_type": "stream",
     "text": [
      "Model: linear_regression \t Sqrt(MSE): 612.1144924946556\n",
      "Model: bayesian_ard \t Sqrt(MSE): 612.2152643273787\n",
      "Model: ransac \t Sqrt(MSE): 2059050624979.5054\n",
      "Model: decision_tree \t Sqrt(MSE): 617.9439950155771\n",
      "Model: xgboost \t Sqrt(MSE): 614.8488000327764\n",
      "Model: linear_regression \t Sqrt(MSE): 236.98344468036595\n",
      "Model: bayesian_ard \t Sqrt(MSE): 233.50935622339478\n",
      "Model: ransac \t Sqrt(MSE): 114295463739523.1\n",
      "Model: decision_tree \t Sqrt(MSE): 259.7727106884873\n",
      "Model: xgboost \t Sqrt(MSE): 252.45807922942663\n",
      "Model: linear_regression \t Sqrt(MSE): 218.58450557608037\n",
      "Model: bayesian_ard \t Sqrt(MSE): 219.5582239335589\n",
      "Model: ransac \t Sqrt(MSE): 6212210148391.127\n",
      "Model: decision_tree \t Sqrt(MSE): 203.0014440829056\n",
      "Model: xgboost \t Sqrt(MSE): 182.25038587335305\n"
     ]
    }
   ],
   "source": [
    "models = {\"linear_regression\":LinearRegression(),\n",
    "          \"bayesian_ard\": ARDRegression(),\n",
    "          \"ransac\": RANSACRegressor(),\n",
    "          \"decision_tree\":DecisionTreeRegressor(),\n",
    "          \"xgboost\":XGBRegressor(booster=\"gbtree\")}\n",
    "\n",
    "skf = StratifiedKFold(n_splits=3)\n",
    "for train_index, test_index in skf.split(X, y):\n",
    "    for name, model in models.items():\n",
    "        model.fit(X.iloc[train_index,:], y.iloc[train_index])\n",
    "        pred = model.predict(X.iloc[test_index,:])\n",
    "        err = mean_squared_error(y.iloc[test_index], pred)\n",
    "        print(f\"Model: {name} \\t Sqrt(MSE): {np.sqrt(err)}\")"
   ]
  }
 ],
 "metadata": {
  "kernelspec": {
   "display_name": "Python 3 (ipykernel)",
   "language": "python",
   "name": "python3"
  },
  "language_info": {
   "codemirror_mode": {
    "name": "ipython",
    "version": 3
   },
   "file_extension": ".py",
   "mimetype": "text/x-python",
   "name": "python",
   "nbconvert_exporter": "python",
   "pygments_lexer": "ipython3",
   "version": "3.9.12"
  },
  "vscode": {
   "interpreter": {
    "hash": "5bb167dcc8e0362259233268f8aabb06284b5cd30446df487de294e1c7e8a6f1"
   }
  }
 },
 "nbformat": 4,
 "nbformat_minor": 4
}
