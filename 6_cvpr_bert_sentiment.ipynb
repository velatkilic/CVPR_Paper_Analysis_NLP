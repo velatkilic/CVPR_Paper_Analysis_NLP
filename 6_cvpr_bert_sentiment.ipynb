{
 "cells": [
  {
   "cell_type": "markdown",
   "id": "a681557f",
   "metadata": {},
   "source": [
    "# Future Paper Success Prediction as Sentiment Analysis"
   ]
  },
  {
   "cell_type": "code",
   "execution_count": 1,
   "id": "2670cc1d-6b4c-4fdc-8e78-f0b55b5546b4",
   "metadata": {},
   "outputs": [
    {
     "data": {
      "text/plain": [
       "'cuda:0'"
      ]
     },
     "execution_count": 1,
     "metadata": {},
     "output_type": "execute_result"
    }
   ],
   "source": [
    "import pandas as pd\n",
    "import matplotlib.pyplot as plt\n",
    "import numpy as np\n",
    "import torch \n",
    "\n",
    "device = \"cuda:0\" if torch.cuda.is_available() else \"cpu\"\n",
    "torch.cuda.empty_cache()\n",
    "device"
   ]
  },
  {
   "cell_type": "markdown",
   "id": "f746d707",
   "metadata": {},
   "source": [
    "Read data"
   ]
  },
  {
   "cell_type": "code",
   "execution_count": 2,
   "id": "6605fe78",
   "metadata": {},
   "outputs": [
    {
     "data": {
      "text/html": [
       "<div>\n",
       "<style scoped>\n",
       "    .dataframe tbody tr th:only-of-type {\n",
       "        vertical-align: middle;\n",
       "    }\n",
       "\n",
       "    .dataframe tbody tr th {\n",
       "        vertical-align: top;\n",
       "    }\n",
       "\n",
       "    .dataframe thead th {\n",
       "        text-align: right;\n",
       "    }\n",
       "</style>\n",
       "<table border=\"1\" class=\"dataframe\">\n",
       "  <thead>\n",
       "    <tr style=\"text-align: right;\">\n",
       "      <th></th>\n",
       "      <th>title</th>\n",
       "      <th>authors</th>\n",
       "      <th>abstract</th>\n",
       "      <th>link</th>\n",
       "      <th>year</th>\n",
       "      <th>citation_count</th>\n",
       "      <th>doi</th>\n",
       "      <th>citation</th>\n",
       "      <th>title_open_cite</th>\n",
       "      <th>topic_class</th>\n",
       "    </tr>\n",
       "  </thead>\n",
       "  <tbody>\n",
       "    <tr>\n",
       "      <th>0</th>\n",
       "      <td>Deformable Spatial Pyramid Matching for Fast D...</td>\n",
       "      <td>Jaechul Kim, Ce Liu, Fei Sha, Kristen Grauman</td>\n",
       "      <td>We introduce a fast deformable spatial pyramid...</td>\n",
       "      <td>content_cvpr_2013/papers/Kim_Deformable_Spatia...</td>\n",
       "      <td>2013</td>\n",
       "      <td>120</td>\n",
       "      <td>10.1109/cvpr.2013.299</td>\n",
       "      <td>10.1007/978-3-030-01249-6_36; 10.2493/jjspe.84...</td>\n",
       "      <td>deformable spatial pyramid matching for fast d...</td>\n",
       "      <td>0</td>\n",
       "    </tr>\n",
       "  </tbody>\n",
       "</table>\n",
       "</div>"
      ],
      "text/plain": [
       "                                               title  \\\n",
       "0  Deformable Spatial Pyramid Matching for Fast D...   \n",
       "\n",
       "                                         authors  \\\n",
       "0  Jaechul Kim, Ce Liu, Fei Sha, Kristen Grauman   \n",
       "\n",
       "                                            abstract  \\\n",
       "0  We introduce a fast deformable spatial pyramid...   \n",
       "\n",
       "                                                link  year  citation_count  \\\n",
       "0  content_cvpr_2013/papers/Kim_Deformable_Spatia...  2013             120   \n",
       "\n",
       "                     doi                                           citation  \\\n",
       "0  10.1109/cvpr.2013.299  10.1007/978-3-030-01249-6_36; 10.2493/jjspe.84...   \n",
       "\n",
       "                                     title_open_cite  topic_class  \n",
       "0  deformable spatial pyramid matching for fast d...            0  "
      ]
     },
     "execution_count": 2,
     "metadata": {},
     "output_type": "execute_result"
    }
   ],
   "source": [
    "df = pd.read_csv(\"cvpr_data_with_topics.csv\")\n",
    "df.head(1)"
   ]
  },
  {
   "cell_type": "markdown",
   "id": "562cbf36",
   "metadata": {},
   "source": [
    "Drop null citations and the years 2022, 2021"
   ]
  },
  {
   "cell_type": "code",
   "execution_count": 3,
   "id": "f7d3fbdd",
   "metadata": {},
   "outputs": [],
   "source": [
    "df = df[df[\"citation_count\"] != -1] # drop null citations\n",
    "df = df[~df[\"year\"].isin([2020,2021])][[\"year\", \"abstract\", \"citation_count\"]] # drop 2020,2021 and only keep abstract + citaiton count\n"
   ]
  },
  {
   "cell_type": "markdown",
   "id": "174caaf3",
   "metadata": {},
   "source": [
    "Citation statistics"
   ]
  },
  {
   "cell_type": "code",
   "execution_count": 4,
   "id": "536de0d8",
   "metadata": {},
   "outputs": [
    {
     "data": {
      "text/html": [
       "<div>\n",
       "<style scoped>\n",
       "    .dataframe tbody tr th:only-of-type {\n",
       "        vertical-align: middle;\n",
       "    }\n",
       "\n",
       "    .dataframe tbody tr th {\n",
       "        vertical-align: top;\n",
       "    }\n",
       "\n",
       "    .dataframe thead th {\n",
       "        text-align: right;\n",
       "    }\n",
       "</style>\n",
       "<table border=\"1\" class=\"dataframe\">\n",
       "  <thead>\n",
       "    <tr style=\"text-align: right;\">\n",
       "      <th></th>\n",
       "      <th>count</th>\n",
       "      <th>mean</th>\n",
       "      <th>std</th>\n",
       "      <th>min</th>\n",
       "      <th>25%</th>\n",
       "      <th>50%</th>\n",
       "      <th>75%</th>\n",
       "      <th>max</th>\n",
       "    </tr>\n",
       "    <tr>\n",
       "      <th>year</th>\n",
       "      <th></th>\n",
       "      <th></th>\n",
       "      <th></th>\n",
       "      <th></th>\n",
       "      <th></th>\n",
       "      <th></th>\n",
       "      <th></th>\n",
       "      <th></th>\n",
       "    </tr>\n",
       "  </thead>\n",
       "  <tbody>\n",
       "    <tr>\n",
       "      <th>2013</th>\n",
       "      <td>471.0</td>\n",
       "      <td>61.983015</td>\n",
       "      <td>113.848181</td>\n",
       "      <td>0.0</td>\n",
       "      <td>13.0</td>\n",
       "      <td>32.0</td>\n",
       "      <td>66.50</td>\n",
       "      <td>1531.0</td>\n",
       "    </tr>\n",
       "    <tr>\n",
       "      <th>2014</th>\n",
       "      <td>540.0</td>\n",
       "      <td>68.862963</td>\n",
       "      <td>297.099728</td>\n",
       "      <td>0.0</td>\n",
       "      <td>10.0</td>\n",
       "      <td>23.0</td>\n",
       "      <td>49.25</td>\n",
       "      <td>6032.0</td>\n",
       "    </tr>\n",
       "    <tr>\n",
       "      <th>2015</th>\n",
       "      <td>599.0</td>\n",
       "      <td>84.088481</td>\n",
       "      <td>475.864112</td>\n",
       "      <td>0.0</td>\n",
       "      <td>6.0</td>\n",
       "      <td>20.0</td>\n",
       "      <td>54.00</td>\n",
       "      <td>9377.0</td>\n",
       "    </tr>\n",
       "    <tr>\n",
       "      <th>2016</th>\n",
       "      <td>643.0</td>\n",
       "      <td>110.917574</td>\n",
       "      <td>920.885537</td>\n",
       "      <td>0.0</td>\n",
       "      <td>8.0</td>\n",
       "      <td>23.0</td>\n",
       "      <td>65.50</td>\n",
       "      <td>22369.0</td>\n",
       "    </tr>\n",
       "    <tr>\n",
       "      <th>2017</th>\n",
       "      <td>782.0</td>\n",
       "      <td>68.805627</td>\n",
       "      <td>258.558078</td>\n",
       "      <td>0.0</td>\n",
       "      <td>8.0</td>\n",
       "      <td>20.0</td>\n",
       "      <td>51.00</td>\n",
       "      <td>4870.0</td>\n",
       "    </tr>\n",
       "    <tr>\n",
       "      <th>2018</th>\n",
       "      <td>978.0</td>\n",
       "      <td>39.525562</td>\n",
       "      <td>105.193772</td>\n",
       "      <td>0.0</td>\n",
       "      <td>6.0</td>\n",
       "      <td>17.0</td>\n",
       "      <td>42.00</td>\n",
       "      <td>1982.0</td>\n",
       "    </tr>\n",
       "    <tr>\n",
       "      <th>2019</th>\n",
       "      <td>1294.0</td>\n",
       "      <td>19.833849</td>\n",
       "      <td>34.834792</td>\n",
       "      <td>0.0</td>\n",
       "      <td>5.0</td>\n",
       "      <td>10.0</td>\n",
       "      <td>22.00</td>\n",
       "      <td>639.0</td>\n",
       "    </tr>\n",
       "  </tbody>\n",
       "</table>\n",
       "</div>"
      ],
      "text/plain": [
       "       count        mean         std  min   25%   50%    75%      max\n",
       "year                                                                 \n",
       "2013   471.0   61.983015  113.848181  0.0  13.0  32.0  66.50   1531.0\n",
       "2014   540.0   68.862963  297.099728  0.0  10.0  23.0  49.25   6032.0\n",
       "2015   599.0   84.088481  475.864112  0.0   6.0  20.0  54.00   9377.0\n",
       "2016   643.0  110.917574  920.885537  0.0   8.0  23.0  65.50  22369.0\n",
       "2017   782.0   68.805627  258.558078  0.0   8.0  20.0  51.00   4870.0\n",
       "2018   978.0   39.525562  105.193772  0.0   6.0  17.0  42.00   1982.0\n",
       "2019  1294.0   19.833849   34.834792  0.0   5.0  10.0  22.00    639.0"
      ]
     },
     "execution_count": 4,
     "metadata": {},
     "output_type": "execute_result"
    }
   ],
   "source": [
    "citation_stats = df.groupby(\"year\")[\"citation_count\"].describe()\n",
    "citation_stats"
   ]
  },
  {
   "cell_type": "markdown",
   "id": "d4c2dddd",
   "metadata": {},
   "source": [
    "Normalize data across years by subtracting 50% and dividing 75%-25%"
   ]
  },
  {
   "cell_type": "code",
   "execution_count": 5,
   "id": "46ee2e63",
   "metadata": {},
   "outputs": [
    {
     "data": {
      "text/html": [
       "<div>\n",
       "<style scoped>\n",
       "    .dataframe tbody tr th:only-of-type {\n",
       "        vertical-align: middle;\n",
       "    }\n",
       "\n",
       "    .dataframe tbody tr th {\n",
       "        vertical-align: top;\n",
       "    }\n",
       "\n",
       "    .dataframe thead th {\n",
       "        text-align: right;\n",
       "    }\n",
       "</style>\n",
       "<table border=\"1\" class=\"dataframe\">\n",
       "  <thead>\n",
       "    <tr style=\"text-align: right;\">\n",
       "      <th></th>\n",
       "      <th>count</th>\n",
       "      <th>mean</th>\n",
       "      <th>std</th>\n",
       "      <th>min</th>\n",
       "      <th>25%</th>\n",
       "      <th>50%</th>\n",
       "      <th>75%</th>\n",
       "      <th>max</th>\n",
       "    </tr>\n",
       "    <tr>\n",
       "      <th>year</th>\n",
       "      <th></th>\n",
       "      <th></th>\n",
       "      <th></th>\n",
       "      <th></th>\n",
       "      <th></th>\n",
       "      <th></th>\n",
       "      <th></th>\n",
       "      <th></th>\n",
       "    </tr>\n",
       "  </thead>\n",
       "  <tbody>\n",
       "    <tr>\n",
       "      <th>2013</th>\n",
       "      <td>471.0</td>\n",
       "      <td>0.560430</td>\n",
       "      <td>2.128003</td>\n",
       "      <td>-0.598131</td>\n",
       "      <td>-0.355140</td>\n",
       "      <td>0.0</td>\n",
       "      <td>0.644860</td>\n",
       "      <td>28.018692</td>\n",
       "    </tr>\n",
       "    <tr>\n",
       "      <th>2014</th>\n",
       "      <td>540.0</td>\n",
       "      <td>1.168483</td>\n",
       "      <td>7.569420</td>\n",
       "      <td>-0.585987</td>\n",
       "      <td>-0.331210</td>\n",
       "      <td>0.0</td>\n",
       "      <td>0.668790</td>\n",
       "      <td>153.095541</td>\n",
       "    </tr>\n",
       "    <tr>\n",
       "      <th>2015</th>\n",
       "      <td>599.0</td>\n",
       "      <td>1.335177</td>\n",
       "      <td>9.913836</td>\n",
       "      <td>-0.416667</td>\n",
       "      <td>-0.291667</td>\n",
       "      <td>0.0</td>\n",
       "      <td>0.708333</td>\n",
       "      <td>194.937500</td>\n",
       "    </tr>\n",
       "    <tr>\n",
       "      <th>2016</th>\n",
       "      <td>643.0</td>\n",
       "      <td>1.529001</td>\n",
       "      <td>16.015401</td>\n",
       "      <td>-0.400000</td>\n",
       "      <td>-0.260870</td>\n",
       "      <td>0.0</td>\n",
       "      <td>0.739130</td>\n",
       "      <td>388.626087</td>\n",
       "    </tr>\n",
       "    <tr>\n",
       "      <th>2017</th>\n",
       "      <td>782.0</td>\n",
       "      <td>1.135015</td>\n",
       "      <td>6.012979</td>\n",
       "      <td>-0.465116</td>\n",
       "      <td>-0.279070</td>\n",
       "      <td>0.0</td>\n",
       "      <td>0.720930</td>\n",
       "      <td>112.790698</td>\n",
       "    </tr>\n",
       "    <tr>\n",
       "      <th>2018</th>\n",
       "      <td>978.0</td>\n",
       "      <td>0.625710</td>\n",
       "      <td>2.922049</td>\n",
       "      <td>-0.472222</td>\n",
       "      <td>-0.305556</td>\n",
       "      <td>0.0</td>\n",
       "      <td>0.694444</td>\n",
       "      <td>54.583333</td>\n",
       "    </tr>\n",
       "    <tr>\n",
       "      <th>2019</th>\n",
       "      <td>1294.0</td>\n",
       "      <td>0.578462</td>\n",
       "      <td>2.049105</td>\n",
       "      <td>-0.588235</td>\n",
       "      <td>-0.294118</td>\n",
       "      <td>0.0</td>\n",
       "      <td>0.705882</td>\n",
       "      <td>37.000000</td>\n",
       "    </tr>\n",
       "  </tbody>\n",
       "</table>\n",
       "</div>"
      ],
      "text/plain": [
       "       count      mean        std       min       25%  50%       75%  \\\n",
       "year                                                                   \n",
       "2013   471.0  0.560430   2.128003 -0.598131 -0.355140  0.0  0.644860   \n",
       "2014   540.0  1.168483   7.569420 -0.585987 -0.331210  0.0  0.668790   \n",
       "2015   599.0  1.335177   9.913836 -0.416667 -0.291667  0.0  0.708333   \n",
       "2016   643.0  1.529001  16.015401 -0.400000 -0.260870  0.0  0.739130   \n",
       "2017   782.0  1.135015   6.012979 -0.465116 -0.279070  0.0  0.720930   \n",
       "2018   978.0  0.625710   2.922049 -0.472222 -0.305556  0.0  0.694444   \n",
       "2019  1294.0  0.578462   2.049105 -0.588235 -0.294118  0.0  0.705882   \n",
       "\n",
       "             max  \n",
       "year              \n",
       "2013   28.018692  \n",
       "2014  153.095541  \n",
       "2015  194.937500  \n",
       "2016  388.626087  \n",
       "2017  112.790698  \n",
       "2018   54.583333  \n",
       "2019   37.000000  "
      ]
     },
     "execution_count": 5,
     "metadata": {},
     "output_type": "execute_result"
    }
   ],
   "source": [
    "def norm_data(x):\n",
    "    out = x[\"citation_count\"] - citation_stats.iloc[x[\"year\"]-2013,:][\"50%\"]\n",
    "    width = citation_stats.iloc[x[\"year\"]-2013,:][\"75%\"] - citation_stats.iloc[x[\"year\"]-2013,:][\"25%\"]\n",
    "    return out/width\n",
    "\n",
    "df[\"citation_count\"] = df.apply(norm_data, axis=1)\n",
    "citation_stats_norm = df.groupby(\"year\")[\"citation_count\"].describe()\n",
    "citation_stats_norm"
   ]
  },
  {
   "cell_type": "markdown",
   "id": "868be7f1",
   "metadata": {},
   "source": [
    "Convert to range [0, 1] for sentiment analysis"
   ]
  },
  {
   "cell_type": "code",
   "execution_count": 6,
   "id": "83f4200a",
   "metadata": {},
   "outputs": [
    {
     "data": {
      "text/html": [
       "<div>\n",
       "<style scoped>\n",
       "    .dataframe tbody tr th:only-of-type {\n",
       "        vertical-align: middle;\n",
       "    }\n",
       "\n",
       "    .dataframe tbody tr th {\n",
       "        vertical-align: top;\n",
       "    }\n",
       "\n",
       "    .dataframe thead th {\n",
       "        text-align: right;\n",
       "    }\n",
       "</style>\n",
       "<table border=\"1\" class=\"dataframe\">\n",
       "  <thead>\n",
       "    <tr style=\"text-align: right;\">\n",
       "      <th></th>\n",
       "      <th>count</th>\n",
       "      <th>mean</th>\n",
       "      <th>std</th>\n",
       "      <th>min</th>\n",
       "      <th>25%</th>\n",
       "      <th>50%</th>\n",
       "      <th>75%</th>\n",
       "      <th>max</th>\n",
       "    </tr>\n",
       "    <tr>\n",
       "      <th>year</th>\n",
       "      <th></th>\n",
       "      <th></th>\n",
       "      <th></th>\n",
       "      <th></th>\n",
       "      <th></th>\n",
       "      <th></th>\n",
       "      <th></th>\n",
       "      <th></th>\n",
       "    </tr>\n",
       "  </thead>\n",
       "  <tbody>\n",
       "    <tr>\n",
       "      <th>2013</th>\n",
       "      <td>471.0</td>\n",
       "      <td>0.566162</td>\n",
       "      <td>0.256182</td>\n",
       "      <td>0.232141</td>\n",
       "      <td>0.329537</td>\n",
       "      <td>0.5</td>\n",
       "      <td>0.784083</td>\n",
       "      <td>1.0</td>\n",
       "    </tr>\n",
       "    <tr>\n",
       "      <th>2014</th>\n",
       "      <td>540.0</td>\n",
       "      <td>0.572268</td>\n",
       "      <td>0.254982</td>\n",
       "      <td>0.236498</td>\n",
       "      <td>0.340196</td>\n",
       "      <td>0.5</td>\n",
       "      <td>0.792068</td>\n",
       "      <td>1.0</td>\n",
       "    </tr>\n",
       "    <tr>\n",
       "      <th>2015</th>\n",
       "      <td>599.0</td>\n",
       "      <td>0.580983</td>\n",
       "      <td>0.245412</td>\n",
       "      <td>0.302941</td>\n",
       "      <td>0.358166</td>\n",
       "      <td>0.5</td>\n",
       "      <td>0.804815</td>\n",
       "      <td>1.0</td>\n",
       "    </tr>\n",
       "    <tr>\n",
       "      <th>2016</th>\n",
       "      <td>643.0</td>\n",
       "      <td>0.586692</td>\n",
       "      <td>0.242566</td>\n",
       "      <td>0.310026</td>\n",
       "      <td>0.372446</td>\n",
       "      <td>0.5</td>\n",
       "      <td>0.814295</td>\n",
       "      <td>1.0</td>\n",
       "    </tr>\n",
       "    <tr>\n",
       "      <th>2017</th>\n",
       "      <td>782.0</td>\n",
       "      <td>0.582581</td>\n",
       "      <td>0.249992</td>\n",
       "      <td>0.282878</td>\n",
       "      <td>0.363978</td>\n",
       "      <td>0.5</td>\n",
       "      <td>0.808743</td>\n",
       "      <td>1.0</td>\n",
       "    </tr>\n",
       "    <tr>\n",
       "      <th>2018</th>\n",
       "      <td>978.0</td>\n",
       "      <td>0.574139</td>\n",
       "      <td>0.242264</td>\n",
       "      <td>0.280003</td>\n",
       "      <td>0.351806</td>\n",
       "      <td>0.5</td>\n",
       "      <td>0.800415</td>\n",
       "      <td>1.0</td>\n",
       "    </tr>\n",
       "    <tr>\n",
       "      <th>2019</th>\n",
       "      <td>1294.0</td>\n",
       "      <td>0.578747</td>\n",
       "      <td>0.252662</td>\n",
       "      <td>0.235687</td>\n",
       "      <td>0.357040</td>\n",
       "      <td>0.5</td>\n",
       "      <td>0.804044</td>\n",
       "      <td>1.0</td>\n",
       "    </tr>\n",
       "  </tbody>\n",
       "</table>\n",
       "</div>"
      ],
      "text/plain": [
       "       count      mean       std       min       25%  50%       75%  max\n",
       "year                                                                    \n",
       "2013   471.0  0.566162  0.256182  0.232141  0.329537  0.5  0.784083  1.0\n",
       "2014   540.0  0.572268  0.254982  0.236498  0.340196  0.5  0.792068  1.0\n",
       "2015   599.0  0.580983  0.245412  0.302941  0.358166  0.5  0.804815  1.0\n",
       "2016   643.0  0.586692  0.242566  0.310026  0.372446  0.5  0.814295  1.0\n",
       "2017   782.0  0.582581  0.249992  0.282878  0.363978  0.5  0.808743  1.0\n",
       "2018   978.0  0.574139  0.242264  0.280003  0.351806  0.5  0.800415  1.0\n",
       "2019  1294.0  0.578747  0.252662  0.235687  0.357040  0.5  0.804044  1.0"
      ]
     },
     "execution_count": 6,
     "metadata": {},
     "output_type": "execute_result"
    }
   ],
   "source": [
    "def sigmoid(x, k=2.):\n",
    "    return 1./(1. + np.exp(-k*x))\n",
    "\n",
    "df[\"citation_count\"] = df.apply(lambda x: sigmoid(x[\"citation_count\"]), axis=1)\n",
    "citation_stats_norm = df.groupby(\"year\")[\"citation_count\"].describe()\n",
    "citation_stats_norm"
   ]
  },
  {
   "cell_type": "markdown",
   "id": "d9a119e4",
   "metadata": {},
   "source": [
    "Drop the year which we don't need anymore"
   ]
  },
  {
   "cell_type": "code",
   "execution_count": 7,
   "id": "5afa8d44",
   "metadata": {},
   "outputs": [
    {
     "data": {
      "text/html": [
       "<div>\n",
       "<style scoped>\n",
       "    .dataframe tbody tr th:only-of-type {\n",
       "        vertical-align: middle;\n",
       "    }\n",
       "\n",
       "    .dataframe tbody tr th {\n",
       "        vertical-align: top;\n",
       "    }\n",
       "\n",
       "    .dataframe thead th {\n",
       "        text-align: right;\n",
       "    }\n",
       "</style>\n",
       "<table border=\"1\" class=\"dataframe\">\n",
       "  <thead>\n",
       "    <tr style=\"text-align: right;\">\n",
       "      <th></th>\n",
       "      <th>abstract</th>\n",
       "      <th>label</th>\n",
       "    </tr>\n",
       "  </thead>\n",
       "  <tbody>\n",
       "    <tr>\n",
       "      <th>0</th>\n",
       "      <td>We introduce a fast deformable spatial pyramid...</td>\n",
       "      <td>0.964074</td>\n",
       "    </tr>\n",
       "  </tbody>\n",
       "</table>\n",
       "</div>"
      ],
      "text/plain": [
       "                                            abstract     label\n",
       "0  We introduce a fast deformable spatial pyramid...  0.964074"
      ]
     },
     "execution_count": 7,
     "metadata": {},
     "output_type": "execute_result"
    }
   ],
   "source": [
    "df = df.drop(\"year\", axis=1)\n",
    "df = df.rename(columns={\"citation_count\": \"label\"})\n",
    "df.head(1)"
   ]
  },
  {
   "cell_type": "markdown",
   "id": "0aa70da5-2837-4a08-98a6-eeb5c35719e7",
   "metadata": {},
   "source": [
    "Convert pandas dataframe to huggingface dataset"
   ]
  },
  {
   "cell_type": "code",
   "execution_count": 8,
   "id": "d0148fb8-ea5f-4923-b69b-9c6c4c871e40",
   "metadata": {},
   "outputs": [
    {
     "data": {
      "text/plain": [
       "Dataset({\n",
       "    features: ['abstract', 'label', '__index_level_0__'],\n",
       "    num_rows: 5307\n",
       "})"
      ]
     },
     "execution_count": 8,
     "metadata": {},
     "output_type": "execute_result"
    }
   ],
   "source": [
    "from datasets import Dataset\n",
    "dataset = Dataset.from_pandas(df)\n",
    "dataset"
   ]
  },
  {
   "cell_type": "markdown",
   "id": "60aa1a51-6cd7-4683-9583-33445e856eb4",
   "metadata": {},
   "source": [
    "Load from pretrained language model"
   ]
  },
  {
   "cell_type": "code",
   "execution_count": 9,
   "id": "f255c866-e350-4b9d-aff1-7d586d8e84d0",
   "metadata": {},
   "outputs": [
    {
     "name": "stderr",
     "output_type": "stream",
     "text": [
      "Some weights of the model checkpoint at distilbert-base-uncased-finetuned-cvpr were not used when initializing DistilBertForSequenceClassification: ['vocab_transform.bias', 'vocab_projector.weight', 'vocab_projector.bias', 'vocab_transform.weight', 'vocab_layer_norm.weight', 'vocab_layer_norm.bias']\n",
      "- This IS expected if you are initializing DistilBertForSequenceClassification from the checkpoint of a model trained on another task or with another architecture (e.g. initializing a BertForSequenceClassification model from a BertForPreTraining model).\n",
      "- This IS NOT expected if you are initializing DistilBertForSequenceClassification from the checkpoint of a model that you expect to be exactly identical (initializing a BertForSequenceClassification model from a BertForSequenceClassification model).\n",
      "Some weights of DistilBertForSequenceClassification were not initialized from the model checkpoint at distilbert-base-uncased-finetuned-cvpr and are newly initialized: ['pre_classifier.weight', 'classifier.weight', 'classifier.bias', 'pre_classifier.bias']\n",
      "You should probably TRAIN this model on a down-stream task to be able to use it for predictions and inference.\n"
     ]
    }
   ],
   "source": [
    "from transformers import AutoTokenizer, AutoModelForSequenceClassification\n",
    "\n",
    "model_checkpoint = \"distilbert-base-uncased-finetuned-cvpr\"\n",
    "tokenizer = AutoTokenizer.from_pretrained(model_checkpoint)\n",
    "model = AutoModelForSequenceClassification.from_pretrained(model_checkpoint, num_labels=1).to(device)"
   ]
  },
  {
   "cell_type": "code",
   "execution_count": 11,
   "id": "9ad2d187-f912-405b-9668-61f3b2f12a79",
   "metadata": {},
   "outputs": [
    {
     "name": "stderr",
     "output_type": "stream",
     "text": [
      "Parameter 'function'=<function tokenize_function at 0x0000022697621C10> of the transform datasets.arrow_dataset.Dataset._map_single couldn't be hashed properly, a random hash was used instead. Make sure your transforms and parameters are serializable with pickle or dill for the dataset fingerprinting and caching to work. If you reuse this transform, the caching mechanism will consider it to be different from the previous calls and recompute everything. This warning is only showed once. Subsequent hashing failures won't be showed.\n"
     ]
    },
    {
     "data": {
      "application/vnd.jupyter.widget-view+json": {
       "model_id": "fc58e03104e6401a9fbbbd2c9499be7e",
       "version_major": 2,
       "version_minor": 0
      },
      "text/plain": [
       "  0%|          | 0/6 [00:00<?, ?ba/s]"
      ]
     },
     "metadata": {},
     "output_type": "display_data"
    },
    {
     "data": {
      "text/plain": [
       "Dataset({\n",
       "    features: ['label', 'input_ids', 'attention_mask', 'word_ids'],\n",
       "    num_rows: 5307\n",
       "})"
      ]
     },
     "execution_count": 11,
     "metadata": {},
     "output_type": "execute_result"
    }
   ],
   "source": [
    "def tokenize_function(examples):\n",
    "    result = tokenizer(examples[\"abstract\"], padding=\"max_length\", max_length=256, truncation=True)\n",
    "    if tokenizer.is_fast:\n",
    "        result[\"word_ids\"] = [result.word_ids(i) for i in range(len(result[\"input_ids\"]))]\n",
    "    return result\n",
    "\n",
    "\n",
    "# Use batched=True to activate fast multithreading!\n",
    "tokenized_datasets = dataset.map(\n",
    "    tokenize_function, batched=True, remove_columns=[\"abstract\",\"__index_level_0__\"]\n",
    ")\n",
    "tokenized_datasets"
   ]
  },
  {
   "cell_type": "markdown",
   "id": "4bc694c2-ad70-44d1-99cf-3b99748744b7",
   "metadata": {},
   "source": [
    "Train/test split"
   ]
  },
  {
   "cell_type": "code",
   "execution_count": 12,
   "id": "bdae4c36-a3fc-4046-81bc-fb048b76ed74",
   "metadata": {},
   "outputs": [
    {
     "data": {
      "text/plain": [
       "DatasetDict({\n",
       "    train: Dataset({\n",
       "        features: ['label', 'input_ids', 'attention_mask', 'word_ids'],\n",
       "        num_rows: 4307\n",
       "    })\n",
       "    test: Dataset({\n",
       "        features: ['label', 'input_ids', 'attention_mask', 'word_ids'],\n",
       "        num_rows: 1000\n",
       "    })\n",
       "})"
      ]
     },
     "execution_count": 12,
     "metadata": {},
     "output_type": "execute_result"
    }
   ],
   "source": [
    "train_size = 4307\n",
    "\n",
    "downsampled_dataset = tokenized_datasets.train_test_split(\n",
    "    train_size=train_size, seed=1234\n",
    ")\n",
    "downsampled_dataset"
   ]
  },
  {
   "cell_type": "code",
   "execution_count": 13,
   "id": "e65faf74-69f4-4cd9-9139-a25ab786b22b",
   "metadata": {},
   "outputs": [],
   "source": [
    "from transformers import DataCollatorWithPadding\n",
    "data_collator = DataCollatorWithPadding(tokenizer=tokenizer)"
   ]
  },
  {
   "cell_type": "markdown",
   "id": "0fa02169",
   "metadata": {},
   "source": [
    "Training set-up"
   ]
  },
  {
   "cell_type": "code",
   "execution_count": 14,
   "id": "72dcf265-4761-44e7-9050-a7667ac642ca",
   "metadata": {},
   "outputs": [],
   "source": [
    "from transformers import TrainingArguments\n",
    "\n",
    "batch_size = 16\n",
    "# Show the training loss with every epoch\n",
    "logging_steps = len(downsampled_dataset[\"train\"]) // batch_size\n",
    "model_name = model_checkpoint.split(\"/\")[-1]\n",
    "\n",
    "training_args = TrainingArguments(\n",
    "    output_dir=\"distilbert-sentiment\",\n",
    "    overwrite_output_dir=True,\n",
    "    evaluation_strategy=\"epoch\",\n",
    "    learning_rate=5e-6,\n",
    "    weight_decay=0.01,\n",
    "    per_device_train_batch_size=batch_size,\n",
    "    per_device_eval_batch_size=batch_size,\n",
    "    push_to_hub=False,\n",
    "    fp16=True,\n",
    "    logging_steps=logging_steps,\n",
    "    num_train_epochs = 10\n",
    ")\n"
   ]
  },
  {
   "cell_type": "markdown",
   "id": "b40eb643",
   "metadata": {},
   "source": [
    "Compute metrics from: https://huggingface.co/course/chapter3/3?fw=pt"
   ]
  },
  {
   "cell_type": "code",
   "execution_count": 15,
   "id": "c7887e0d-94af-47d5-ae29-b659b2262890",
   "metadata": {},
   "outputs": [],
   "source": [
    "from datasets import load_metric\n",
    " \n",
    "def compute_metrics(eval_pred):\n",
    "   load_accuracy = load_metric(\"accuracy\")\n",
    "   load_f1 = load_metric(\"f1\")\n",
    "  \n",
    "   logits, labels = eval_pred\n",
    "   predictions = np.argmax(logits, axis=-1)\n",
    "   accuracy = load_accuracy.compute(predictions=predictions, references=labels)[\"accuracy\"]\n",
    "   f1 = load_f1.compute(predictions=predictions, references=labels)[\"f1\"]\n",
    "   return {\"accuracy\": accuracy, \"f1\": f1}"
   ]
  },
  {
   "cell_type": "code",
   "execution_count": 16,
   "id": "1e9c7782-29ff-40ee-916b-d99375cb5fd3",
   "metadata": {},
   "outputs": [
    {
     "name": "stderr",
     "output_type": "stream",
     "text": [
      "Using amp half precision backend\n"
     ]
    }
   ],
   "source": [
    "from transformers import Trainer\n",
    "\n",
    "trainer = Trainer(\n",
    "    model=model,\n",
    "    args=training_args,\n",
    "    train_dataset=downsampled_dataset[\"train\"],\n",
    "    eval_dataset=downsampled_dataset[\"test\"],\n",
    "    data_collator=data_collator,\n",
    "    compute_metrics=compute_metrics,\n",
    ")"
   ]
  },
  {
   "cell_type": "code",
   "execution_count": 17,
   "id": "38167bfb-76b5-4d53-bd21-8bfad0455461",
   "metadata": {},
   "outputs": [
    {
     "name": "stderr",
     "output_type": "stream",
     "text": [
      "The following columns in the training set  don't have a corresponding argument in `DistilBertForSequenceClassification.forward` and have been ignored: word_ids. If word_ids are not expected by `DistilBertForSequenceClassification.forward`,  you can safely ignore this message.\n",
      "C:\\Users\\ceku\\anaconda3\\lib\\site-packages\\transformers\\optimization.py:306: FutureWarning: This implementation of AdamW is deprecated and will be removed in a future version. Use the PyTorch implementation torch.optim.AdamW instead, or set `no_deprecation_warning=True` to disable this warning\n",
      "  warnings.warn(\n",
      "***** Running training *****\n",
      "  Num examples = 4307\n",
      "  Num Epochs = 10\n",
      "  Instantaneous batch size per device = 16\n",
      "  Total train batch size (w. parallel, distributed & accumulation) = 16\n",
      "  Gradient Accumulation steps = 1\n",
      "  Total optimization steps = 2700\n"
     ]
    },
    {
     "data": {
      "text/html": [
       "\n",
       "    <div>\n",
       "      \n",
       "      <progress value='2700' max='2700' style='width:300px; height:20px; vertical-align: middle;'></progress>\n",
       "      [2700/2700 25:36, Epoch 10/10]\n",
       "    </div>\n",
       "    <table border=\"1\" class=\"dataframe\">\n",
       "  <thead>\n",
       " <tr style=\"text-align: left;\">\n",
       "      <th>Epoch</th>\n",
       "      <th>Training Loss</th>\n",
       "      <th>Validation Loss</th>\n",
       "      <th>Accuracy</th>\n",
       "      <th>F1</th>\n",
       "    </tr>\n",
       "  </thead>\n",
       "  <tbody>\n",
       "    <tr>\n",
       "      <td>1</td>\n",
       "      <td>0.064600</td>\n",
       "      <td>0.050962</td>\n",
       "      <td>0.984000</td>\n",
       "      <td>0.000000</td>\n",
       "    </tr>\n",
       "    <tr>\n",
       "      <td>2</td>\n",
       "      <td>0.053700</td>\n",
       "      <td>0.050526</td>\n",
       "      <td>0.984000</td>\n",
       "      <td>0.000000</td>\n",
       "    </tr>\n",
       "    <tr>\n",
       "      <td>3</td>\n",
       "      <td>0.049000</td>\n",
       "      <td>0.049420</td>\n",
       "      <td>0.984000</td>\n",
       "      <td>0.000000</td>\n",
       "    </tr>\n",
       "    <tr>\n",
       "      <td>4</td>\n",
       "      <td>0.045600</td>\n",
       "      <td>0.057304</td>\n",
       "      <td>0.984000</td>\n",
       "      <td>0.000000</td>\n",
       "    </tr>\n",
       "    <tr>\n",
       "      <td>5</td>\n",
       "      <td>0.041500</td>\n",
       "      <td>0.049912</td>\n",
       "      <td>0.984000</td>\n",
       "      <td>0.000000</td>\n",
       "    </tr>\n",
       "    <tr>\n",
       "      <td>6</td>\n",
       "      <td>0.037300</td>\n",
       "      <td>0.048333</td>\n",
       "      <td>0.984000</td>\n",
       "      <td>0.000000</td>\n",
       "    </tr>\n",
       "    <tr>\n",
       "      <td>7</td>\n",
       "      <td>0.033900</td>\n",
       "      <td>0.050275</td>\n",
       "      <td>0.984000</td>\n",
       "      <td>0.000000</td>\n",
       "    </tr>\n",
       "    <tr>\n",
       "      <td>8</td>\n",
       "      <td>0.031300</td>\n",
       "      <td>0.053158</td>\n",
       "      <td>0.984000</td>\n",
       "      <td>0.000000</td>\n",
       "    </tr>\n",
       "    <tr>\n",
       "      <td>9</td>\n",
       "      <td>0.029500</td>\n",
       "      <td>0.053851</td>\n",
       "      <td>0.984000</td>\n",
       "      <td>0.000000</td>\n",
       "    </tr>\n",
       "    <tr>\n",
       "      <td>10</td>\n",
       "      <td>0.029300</td>\n",
       "      <td>0.052973</td>\n",
       "      <td>0.984000</td>\n",
       "      <td>0.000000</td>\n",
       "    </tr>\n",
       "  </tbody>\n",
       "</table><p>"
      ],
      "text/plain": [
       "<IPython.core.display.HTML object>"
      ]
     },
     "metadata": {},
     "output_type": "display_data"
    },
    {
     "name": "stderr",
     "output_type": "stream",
     "text": [
      "The following columns in the evaluation set  don't have a corresponding argument in `DistilBertForSequenceClassification.forward` and have been ignored: word_ids. If word_ids are not expected by `DistilBertForSequenceClassification.forward`,  you can safely ignore this message.\n",
      "***** Running Evaluation *****\n",
      "  Num examples = 1000\n",
      "  Batch size = 16\n",
      "Saving model checkpoint to distilbert-sentiment\\checkpoint-500\n",
      "Configuration saved in distilbert-sentiment\\checkpoint-500\\config.json\n",
      "Model weights saved in distilbert-sentiment\\checkpoint-500\\pytorch_model.bin\n",
      "The following columns in the evaluation set  don't have a corresponding argument in `DistilBertForSequenceClassification.forward` and have been ignored: word_ids. If word_ids are not expected by `DistilBertForSequenceClassification.forward`,  you can safely ignore this message.\n",
      "***** Running Evaluation *****\n",
      "  Num examples = 1000\n",
      "  Batch size = 16\n",
      "The following columns in the evaluation set  don't have a corresponding argument in `DistilBertForSequenceClassification.forward` and have been ignored: word_ids. If word_ids are not expected by `DistilBertForSequenceClassification.forward`,  you can safely ignore this message.\n",
      "***** Running Evaluation *****\n",
      "  Num examples = 1000\n",
      "  Batch size = 16\n",
      "Saving model checkpoint to distilbert-sentiment\\checkpoint-1000\n",
      "Configuration saved in distilbert-sentiment\\checkpoint-1000\\config.json\n",
      "Model weights saved in distilbert-sentiment\\checkpoint-1000\\pytorch_model.bin\n",
      "The following columns in the evaluation set  don't have a corresponding argument in `DistilBertForSequenceClassification.forward` and have been ignored: word_ids. If word_ids are not expected by `DistilBertForSequenceClassification.forward`,  you can safely ignore this message.\n",
      "***** Running Evaluation *****\n",
      "  Num examples = 1000\n",
      "  Batch size = 16\n",
      "The following columns in the evaluation set  don't have a corresponding argument in `DistilBertForSequenceClassification.forward` and have been ignored: word_ids. If word_ids are not expected by `DistilBertForSequenceClassification.forward`,  you can safely ignore this message.\n",
      "***** Running Evaluation *****\n",
      "  Num examples = 1000\n",
      "  Batch size = 16\n",
      "Saving model checkpoint to distilbert-sentiment\\checkpoint-1500\n",
      "Configuration saved in distilbert-sentiment\\checkpoint-1500\\config.json\n",
      "Model weights saved in distilbert-sentiment\\checkpoint-1500\\pytorch_model.bin\n",
      "The following columns in the evaluation set  don't have a corresponding argument in `DistilBertForSequenceClassification.forward` and have been ignored: word_ids. If word_ids are not expected by `DistilBertForSequenceClassification.forward`,  you can safely ignore this message.\n",
      "***** Running Evaluation *****\n",
      "  Num examples = 1000\n",
      "  Batch size = 16\n",
      "The following columns in the evaluation set  don't have a corresponding argument in `DistilBertForSequenceClassification.forward` and have been ignored: word_ids. If word_ids are not expected by `DistilBertForSequenceClassification.forward`,  you can safely ignore this message.\n",
      "***** Running Evaluation *****\n",
      "  Num examples = 1000\n",
      "  Batch size = 16\n",
      "Saving model checkpoint to distilbert-sentiment\\checkpoint-2000\n",
      "Configuration saved in distilbert-sentiment\\checkpoint-2000\\config.json\n",
      "Model weights saved in distilbert-sentiment\\checkpoint-2000\\pytorch_model.bin\n",
      "The following columns in the evaluation set  don't have a corresponding argument in `DistilBertForSequenceClassification.forward` and have been ignored: word_ids. If word_ids are not expected by `DistilBertForSequenceClassification.forward`,  you can safely ignore this message.\n",
      "***** Running Evaluation *****\n",
      "  Num examples = 1000\n",
      "  Batch size = 16\n",
      "The following columns in the evaluation set  don't have a corresponding argument in `DistilBertForSequenceClassification.forward` and have been ignored: word_ids. If word_ids are not expected by `DistilBertForSequenceClassification.forward`,  you can safely ignore this message.\n",
      "***** Running Evaluation *****\n",
      "  Num examples = 1000\n",
      "  Batch size = 16\n",
      "Saving model checkpoint to distilbert-sentiment\\checkpoint-2500\n",
      "Configuration saved in distilbert-sentiment\\checkpoint-2500\\config.json\n",
      "Model weights saved in distilbert-sentiment\\checkpoint-2500\\pytorch_model.bin\n",
      "The following columns in the evaluation set  don't have a corresponding argument in `DistilBertForSequenceClassification.forward` and have been ignored: word_ids. If word_ids are not expected by `DistilBertForSequenceClassification.forward`,  you can safely ignore this message.\n",
      "***** Running Evaluation *****\n",
      "  Num examples = 1000\n",
      "  Batch size = 16\n",
      "\n",
      "\n",
      "Training completed. Do not forget to share your model on huggingface.co/models =)\n",
      "\n",
      "\n"
     ]
    },
    {
     "data": {
      "text/plain": [
       "TrainOutput(global_step=2700, training_loss=0.041498704486423066, metrics={'train_runtime': 1538.0922, 'train_samples_per_second': 28.002, 'train_steps_per_second': 1.755, 'total_flos': 2852634556462080.0, 'train_loss': 0.041498704486423066, 'epoch': 10.0})"
      ]
     },
     "execution_count": 17,
     "metadata": {},
     "output_type": "execute_result"
    }
   ],
   "source": [
    "trainer.train()"
   ]
  },
  {
   "cell_type": "markdown",
   "id": "a674c71a-b269-4dc8-b48f-095cda6cd94d",
   "metadata": {},
   "source": [
    "# F1 score does not improve with training. This could be possibly mitigated by stratified sampling however we don't have enough data"
   ]
  },
  {
   "cell_type": "code",
   "execution_count": null,
   "id": "fb229f0b-a180-4abf-adbb-ef69f3d6c98c",
   "metadata": {},
   "outputs": [],
   "source": []
  }
 ],
 "metadata": {
  "kernelspec": {
   "display_name": "Python 3 (ipykernel)",
   "language": "python",
   "name": "python3"
  },
  "language_info": {
   "codemirror_mode": {
    "name": "ipython",
    "version": 3
   },
   "file_extension": ".py",
   "mimetype": "text/x-python",
   "name": "python",
   "nbconvert_exporter": "python",
   "pygments_lexer": "ipython3",
   "version": "3.9.12"
  },
  "vscode": {
   "interpreter": {
    "hash": "5bb167dcc8e0362259233268f8aabb06284b5cd30446df487de294e1c7e8a6f1"
   }
  }
 },
 "nbformat": 4,
 "nbformat_minor": 5
}
